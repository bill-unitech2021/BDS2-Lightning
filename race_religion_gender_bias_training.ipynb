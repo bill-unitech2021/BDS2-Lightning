{
  "cells": [
    {
      "cell_type": "markdown",
      "metadata": {
        "id": "view-in-github",
        "colab_type": "text"
      },
      "source": [
        "<a href=\"https://colab.research.google.com/github/bill-unitech2021/BDS2-Lightning/blob/main/race_religion_gender_bias_training.ipynb\" target=\"_parent\"><img src=\"https://colab.research.google.com/assets/colab-badge.svg\" alt=\"Open In Colab\"/></a>"
      ]
    },
    {
      "cell_type": "code",
      "execution_count": 1,
      "metadata": {
        "colab": {
          "base_uri": "https://localhost:8080/",
          "height": 35
        },
        "id": "UhW9VuQOEwly",
        "outputId": "d73b8642-e3c5-43c4-bf7b-56172ad8acf2"
      },
      "outputs": [
        {
          "output_type": "execute_result",
          "data": {
            "text/plain": [
              "'/content'"
            ],
            "application/vnd.google.colaboratory.intrinsic+json": {
              "type": "string"
            }
          },
          "metadata": {},
          "execution_count": 1
        }
      ],
      "source": [
        "%pwd"
      ],
      "id": "UhW9VuQOEwly"
    },
    {
      "cell_type": "code",
      "execution_count": 2,
      "metadata": {
        "colab": {
          "base_uri": "https://localhost:8080/"
        },
        "id": "OPjbkVwQFpo8",
        "outputId": "955f238d-7517-4a2e-8f30-cca92b48504c"
      },
      "outputs": [
        {
          "output_type": "stream",
          "name": "stdout",
          "text": [
            "Sat May 27 22:19:03 2023       \n",
            "+-----------------------------------------------------------------------------+\n",
            "| NVIDIA-SMI 525.85.12    Driver Version: 525.85.12    CUDA Version: 12.0     |\n",
            "|-------------------------------+----------------------+----------------------+\n",
            "| GPU  Name        Persistence-M| Bus-Id        Disp.A | Volatile Uncorr. ECC |\n",
            "| Fan  Temp  Perf  Pwr:Usage/Cap|         Memory-Usage | GPU-Util  Compute M. |\n",
            "|                               |                      |               MIG M. |\n",
            "|===============================+======================+======================|\n",
            "|   0  Tesla T4            Off  | 00000000:00:04.0 Off |                    0 |\n",
            "| N/A   45C    P8    12W /  70W |      0MiB / 15360MiB |      0%      Default |\n",
            "|                               |                      |                  N/A |\n",
            "+-------------------------------+----------------------+----------------------+\n",
            "                                                                               \n",
            "+-----------------------------------------------------------------------------+\n",
            "| Processes:                                                                  |\n",
            "|  GPU   GI   CI        PID   Type   Process name                  GPU Memory |\n",
            "|        ID   ID                                                   Usage      |\n",
            "|=============================================================================|\n",
            "|  No running processes found                                                 |\n",
            "+-----------------------------------------------------------------------------+\n"
          ]
        }
      ],
      "source": [
        "gpu_info = !nvidia-smi\n",
        "gpu_info = '\\n'.join(gpu_info)\n",
        "if gpu_info.find('failed') >= 0:\n",
        "  print('Not connected to a GPU')\n",
        "else:\n",
        "  print(gpu_info)"
      ],
      "id": "OPjbkVwQFpo8"
    },
    {
      "cell_type": "code",
      "execution_count": 3,
      "metadata": {
        "colab": {
          "base_uri": "https://localhost:8080/"
        },
        "id": "Au9zMHEZ4bA4",
        "outputId": "ecbeeb01-61b6-4697-a79c-a36c3c79477a"
      },
      "outputs": [
        {
          "output_type": "stream",
          "name": "stdout",
          "text": [
            "Mounted at /content/gdrive\n"
          ]
        }
      ],
      "source": [
        "from google.colab import drive\n",
        "drive.mount('/content/gdrive')"
      ],
      "id": "Au9zMHEZ4bA4"
    },
    {
      "cell_type": "code",
      "execution_count": 4,
      "metadata": {
        "colab": {
          "base_uri": "https://localhost:8080/"
        },
        "id": "60329d77",
        "outputId": "967c9368-dbe4-40e4-933b-f3e559bb954a"
      },
      "outputs": [
        {
          "output_type": "stream",
          "name": "stdout",
          "text": [
            "Looking in indexes: https://pypi.org/simple, https://us-python.pkg.dev/colab-wheels/public/simple/\n",
            "Collecting transformers\n",
            "  Downloading transformers-4.29.2-py3-none-any.whl (7.1 MB)\n",
            "\u001b[2K     \u001b[90m━━━━━━━━━━━━━━━━━━━━━━━━━━━━━━━━━━━━━━━━\u001b[0m \u001b[32m7.1/7.1 MB\u001b[0m \u001b[31m75.5 MB/s\u001b[0m eta \u001b[36m0:00:00\u001b[0m\n",
            "\u001b[?25hRequirement already satisfied: filelock in /usr/local/lib/python3.10/dist-packages (from transformers) (3.12.0)\n",
            "Collecting huggingface-hub<1.0,>=0.14.1 (from transformers)\n",
            "  Downloading huggingface_hub-0.14.1-py3-none-any.whl (224 kB)\n",
            "\u001b[2K     \u001b[90m━━━━━━━━━━━━━━━━━━━━━━━━━━━━━━━━━━━━━━\u001b[0m \u001b[32m224.5/224.5 kB\u001b[0m \u001b[31m25.4 MB/s\u001b[0m eta \u001b[36m0:00:00\u001b[0m\n",
            "\u001b[?25hRequirement already satisfied: numpy>=1.17 in /usr/local/lib/python3.10/dist-packages (from transformers) (1.22.4)\n",
            "Requirement already satisfied: packaging>=20.0 in /usr/local/lib/python3.10/dist-packages (from transformers) (23.1)\n",
            "Requirement already satisfied: pyyaml>=5.1 in /usr/local/lib/python3.10/dist-packages (from transformers) (6.0)\n",
            "Requirement already satisfied: regex!=2019.12.17 in /usr/local/lib/python3.10/dist-packages (from transformers) (2022.10.31)\n",
            "Requirement already satisfied: requests in /usr/local/lib/python3.10/dist-packages (from transformers) (2.27.1)\n",
            "Collecting tokenizers!=0.11.3,<0.14,>=0.11.1 (from transformers)\n",
            "  Downloading tokenizers-0.13.3-cp310-cp310-manylinux_2_17_x86_64.manylinux2014_x86_64.whl (7.8 MB)\n",
            "\u001b[2K     \u001b[90m━━━━━━━━━━━━━━━━━━━━━━━━━━━━━━━━━━━━━━━━\u001b[0m \u001b[32m7.8/7.8 MB\u001b[0m \u001b[31m105.2 MB/s\u001b[0m eta \u001b[36m0:00:00\u001b[0m\n",
            "\u001b[?25hRequirement already satisfied: tqdm>=4.27 in /usr/local/lib/python3.10/dist-packages (from transformers) (4.65.0)\n",
            "Requirement already satisfied: fsspec in /usr/local/lib/python3.10/dist-packages (from huggingface-hub<1.0,>=0.14.1->transformers) (2023.4.0)\n",
            "Requirement already satisfied: typing-extensions>=3.7.4.3 in /usr/local/lib/python3.10/dist-packages (from huggingface-hub<1.0,>=0.14.1->transformers) (4.5.0)\n",
            "Requirement already satisfied: urllib3<1.27,>=1.21.1 in /usr/local/lib/python3.10/dist-packages (from requests->transformers) (1.26.15)\n",
            "Requirement already satisfied: certifi>=2017.4.17 in /usr/local/lib/python3.10/dist-packages (from requests->transformers) (2022.12.7)\n",
            "Requirement already satisfied: charset-normalizer~=2.0.0 in /usr/local/lib/python3.10/dist-packages (from requests->transformers) (2.0.12)\n",
            "Requirement already satisfied: idna<4,>=2.5 in /usr/local/lib/python3.10/dist-packages (from requests->transformers) (3.4)\n",
            "Installing collected packages: tokenizers, huggingface-hub, transformers\n",
            "Successfully installed huggingface-hub-0.14.1 tokenizers-0.13.3 transformers-4.29.2\n"
          ]
        }
      ],
      "source": [
        "!pip install transformers"
      ],
      "id": "60329d77"
    },
    {
      "cell_type": "code",
      "execution_count": 5,
      "metadata": {
        "id": "d87923a8"
      },
      "outputs": [],
      "source": [
        "import pandas as pd\n",
        "import numpy as np\n",
        "from sklearn.metrics import accuracy_score\n",
        "import torch\n",
        "from torch.utils.data import Dataset, DataLoader\n",
        "from transformers import BertTokenizer, BertConfig, BertForTokenClassification"
      ],
      "id": "d87923a8"
    },
    {
      "cell_type": "code",
      "execution_count": 6,
      "metadata": {
        "colab": {
          "base_uri": "https://localhost:8080/"
        },
        "id": "0d67948f",
        "outputId": "f811dbc8-ca48-43c1-aae5-9e43bd1dee49"
      },
      "outputs": [
        {
          "output_type": "stream",
          "name": "stdout",
          "text": [
            "cuda\n"
          ]
        }
      ],
      "source": [
        "from torch import cuda\n",
        "device = 'cuda' if cuda.is_available() else 'cpu'\n",
        "print(device)"
      ],
      "id": "0d67948f"
    },
    {
      "cell_type": "markdown",
      "metadata": {
        "id": "ff85b3a0"
      },
      "source": [
        "### Load Dataset"
      ],
      "id": "ff85b3a0"
    },
    {
      "cell_type": "code",
      "execution_count": 7,
      "metadata": {
        "id": "ghYHkOFwwp3A",
        "colab": {
          "base_uri": "https://localhost:8080/"
        },
        "outputId": "4fe83c00-e27b-4658-886d-7062d9ef75c8"
      },
      "outputs": [
        {
          "output_type": "stream",
          "name": "stdout",
          "text": [
            "/content\n"
          ]
        }
      ],
      "source": [
        "#from google.colab import files\n",
        "#uploaded = files.upload()\n",
        "!pwd"
      ],
      "id": "ghYHkOFwwp3A"
    },
    {
      "cell_type": "code",
      "execution_count": 8,
      "metadata": {
        "colab": {
          "base_uri": "https://localhost:8080/"
        },
        "id": "ee3077dc",
        "outputId": "7c683a32-a57c-4c32-bfa6-291f7bebb169"
      },
      "outputs": [
        {
          "output_type": "execute_result",
          "data": {
            "text/plain": [
              "(6600, 3)"
            ]
          },
          "metadata": {},
          "execution_count": 8
        }
      ],
      "source": [
        "data1 = pd.read_csv(\"aug_gender_bias_df.csv\")\n",
        "data1.shape"
      ],
      "id": "ee3077dc"
    },
    {
      "cell_type": "code",
      "source": [
        "data2 = pd.read_csv(\"stereoset_intra_labeled.csv\")\n",
        "data2.shape"
      ],
      "metadata": {
        "colab": {
          "base_uri": "https://localhost:8080/"
        },
        "id": "5Ne6mLZHtlYh",
        "outputId": "0f33aa9f-1119-4b3b-e66b-94dfd36d8821"
      },
      "id": "5Ne6mLZHtlYh",
      "execution_count": 9,
      "outputs": [
        {
          "output_type": "execute_result",
          "data": {
            "text/plain": [
              "(4170, 2)"
            ]
          },
          "metadata": {},
          "execution_count": 9
        }
      ]
    },
    {
      "cell_type": "code",
      "source": [
        "df = pd.concat([data1, data2], ignore_index=True)\n",
        "df.shape\n",
        "\n"
      ],
      "metadata": {
        "colab": {
          "base_uri": "https://localhost:8080/"
        },
        "id": "6bYkr31etuO1",
        "outputId": "831baf77-7d10-4792-f138-7af13a200cc5"
      },
      "id": "6bYkr31etuO1",
      "execution_count": 10,
      "outputs": [
        {
          "output_type": "execute_result",
          "data": {
            "text/plain": [
              "(10770, 3)"
            ]
          },
          "metadata": {},
          "execution_count": 10
        }
      ]
    },
    {
      "cell_type": "code",
      "source": [
        "#filtered_df = df[df['word_labels'].str.contains('religion')]\n",
        "#filtered_df.shape"
      ],
      "metadata": {
        "id": "cXKd1w2P-vs1"
      },
      "id": "cXKd1w2P-vs1",
      "execution_count": 11,
      "outputs": []
    },
    {
      "cell_type": "code",
      "source": [
        "data = df"
      ],
      "metadata": {
        "id": "SxY0ROjs_ARy"
      },
      "id": "SxY0ROjs_ARy",
      "execution_count": 12,
      "outputs": []
    },
    {
      "cell_type": "code",
      "execution_count": 13,
      "metadata": {
        "colab": {
          "base_uri": "https://localhost:8080/"
        },
        "id": "d85277af",
        "outputId": "be095b9c-66e5-4ff7-ab4a-76c8a5a30108"
      },
      "outputs": [
        {
          "output_type": "execute_result",
          "data": {
            "text/plain": [
              "{'O': 0,\n",
              " 'race': 1,\n",
              " 'religion': 2,\n",
              " 'Generic she': 3,\n",
              " 'Generic he': 4,\n",
              " 'Behavioural Stereotypes': 5,\n",
              " 'Societal Stereotypes': 6,\n",
              " 'Explicit Marking of Sex': 7}"
            ]
          },
          "metadata": {},
          "execution_count": 13
        }
      ],
      "source": [
        "temp_labels = ['O', 'race', 'religion', \n",
        "                'Generic she', 'Generic he',\n",
        "               'Behavioural Stereotypes', \n",
        "               'Societal Stereotypes', \n",
        "               'Explicit Marking of Sex']\n",
        "\n",
        "\n",
        "\n",
        "label2id = {k: v for v, k in enumerate(temp_labels)}\n",
        "id2label = {v: k for v, k in enumerate(temp_labels)}  \n",
        "label2id"
      ],
      "id": "d85277af"
    },
    {
      "cell_type": "markdown",
      "metadata": {
        "id": "98dfca0a"
      },
      "source": [
        "### Initialize required parameters"
      ],
      "id": "98dfca0a"
    },
    {
      "cell_type": "code",
      "execution_count": 14,
      "metadata": {
        "id": "aedc87f6",
        "colab": {
          "base_uri": "https://localhost:8080/",
          "height": 113,
          "referenced_widgets": [
            "bf93f5bfb0ae4944aa4fb80bec6f270b",
            "3e360c95fc404c6cb51b0e748e92083e",
            "66bc8983951744b8af8b9c375ea86846",
            "55a1923f4e3f4de089655ff23ebd1e45",
            "51fcf2748f24443680bc444616ee817e",
            "3be67f56df334e89a62f09929fff2d4f",
            "c0c4227886844e059f48fe37ed33d1d8",
            "4431c416028745e59cf836ff8a6aa933",
            "44617899a22d4bacb7d60fa01387a1f6",
            "8ca8679df1da45c8bfbe956789eb5242",
            "4814daf6918e47129adf2795b4def1ca",
            "5d216e6442664a58acdbe6c5a97bb5af",
            "c019f685c94b42fbb8ef70a697650911",
            "34d9bc7bf9fe4fbdada2f1472a2df5e1",
            "5a2ca3604a1a472098d938428d531df3",
            "0ec3ecbaf53947f5a04d523d8e34ef63",
            "c5509ba86057428399f3125b494b8de6",
            "f276a5c58cb344b387b22c49c9d2600b",
            "1bada62afb084cc68f0a186c421b35fd",
            "fb2fc129cb8a4112b16a5044c6bebcd3",
            "d242b2b1eb7f43358fe0eeb53b03b43f",
            "d2c92e505e4a451fb216eb2ef9cb2dcd",
            "f559e43f19a64f3782b4f96cb630389c",
            "80f8f99b097e4d3695b80f89bb95a86d",
            "3999faf61d2a42c89771690be8a6a01e",
            "c16e366d0fca40a19822a0b51814da65",
            "a3a0fca1c0484690b83344317dc3c877",
            "a9e7e4e3fcf34ae683772f8f9fe67b71",
            "b284418760ba4ac699a638799a32f292",
            "9fe001af9aab42be800e244831199ad0",
            "f008a8d113fb45a1a12b053eba77d341",
            "fc95a11e45ee4228bbedd183b19a0869",
            "5bcf9d629c8e49c1b0036db78a0dbd76"
          ]
        },
        "outputId": "55b3eb30-6a25-49d8-e2b3-70db688d4f6a"
      },
      "outputs": [
        {
          "output_type": "display_data",
          "data": {
            "text/plain": [
              "Downloading (…)solve/main/vocab.txt:   0%|          | 0.00/232k [00:00<?, ?B/s]"
            ],
            "application/vnd.jupyter.widget-view+json": {
              "version_major": 2,
              "version_minor": 0,
              "model_id": "bf93f5bfb0ae4944aa4fb80bec6f270b"
            }
          },
          "metadata": {}
        },
        {
          "output_type": "display_data",
          "data": {
            "text/plain": [
              "Downloading (…)okenizer_config.json:   0%|          | 0.00/28.0 [00:00<?, ?B/s]"
            ],
            "application/vnd.jupyter.widget-view+json": {
              "version_major": 2,
              "version_minor": 0,
              "model_id": "5d216e6442664a58acdbe6c5a97bb5af"
            }
          },
          "metadata": {}
        },
        {
          "output_type": "display_data",
          "data": {
            "text/plain": [
              "Downloading (…)lve/main/config.json:   0%|          | 0.00/570 [00:00<?, ?B/s]"
            ],
            "application/vnd.jupyter.widget-view+json": {
              "version_major": 2,
              "version_minor": 0,
              "model_id": "f559e43f19a64f3782b4f96cb630389c"
            }
          },
          "metadata": {}
        }
      ],
      "source": [
        "MAX_LEN = 128\n",
        "TRAIN_BATCH_SIZE = 4\n",
        "VALID_BATCH_SIZE = 2\n",
        "EPOCHS = 5\n",
        "LEARNING_RATE = 1e-05\n",
        "MAX_GRAD_NORM = 10\n",
        "\n",
        "tokenizer = BertTokenizer.from_pretrained('bert-base-uncased')"
      ],
      "id": "aedc87f6"
    },
    {
      "cell_type": "markdown",
      "metadata": {
        "id": "0419d41c"
      },
      "source": [
        "### Pytorch dataset class implementation"
      ],
      "id": "0419d41c"
    },
    {
      "cell_type": "code",
      "execution_count": 15,
      "metadata": {
        "id": "25218f74"
      },
      "outputs": [],
      "source": [
        "class dataset(Dataset):\n",
        "    def __init__(self, dataframe, tokenizer, max_len):\n",
        "        self.len = len(dataframe)\n",
        "        self.data = dataframe\n",
        "        self.tokenizer = tokenizer\n",
        "        self.max_len = max_len\n",
        "        \n",
        "    def __getitem__(self, index):\n",
        "        # step 1: tokenize (and adapt corresponding labels)\n",
        "        sentence = self.data.sentence[index]  \n",
        "        word_labels = self.data.word_labels[index]  \n",
        "        tokenized_sentence, labels = tokenize_and_preserve_labels(sentence, word_labels, self.tokenizer)\n",
        "        \n",
        "        # step 2: add special tokens (and corresponding labels)\n",
        "        tokenized_sentence = [\"[CLS]\"] + tokenized_sentence + [\"[SEP]\"] # add special tokens\n",
        "        labels.insert(0, \"O\") # add outside label for [CLS] token\n",
        "        labels.insert(-1, \"O\") # add outside label for [SEP] token\n",
        "\n",
        "        # step 3: truncating/padding\n",
        "        maxlen = self.max_len\n",
        "\n",
        "        if (len(tokenized_sentence) > maxlen):\n",
        "          # truncate\n",
        "            tokenized_sentence = tokenized_sentence[:maxlen]\n",
        "            labels = labels[:maxlen]\n",
        "        else:\n",
        "          # pad\n",
        "            tokenized_sentence = tokenized_sentence + ['[PAD]'for _ in range(maxlen - len(tokenized_sentence))]\n",
        "            labels = labels + [\"O\" for _ in range(maxlen - len(labels))]\n",
        "\n",
        "        # step 4: obtain the attention mask\n",
        "        attn_mask = [1 if tok != '[PAD]' else 0 for tok in tokenized_sentence]\n",
        "        \n",
        "        # step 5: convert tokens to input ids\n",
        "        ids = self.tokenizer.convert_tokens_to_ids(tokenized_sentence)\n",
        "\n",
        "        label_ids = [label2id[label] for label in labels]\n",
        "        # the following line is deprecated\n",
        "        #label_ids = [label if label != 0 else -100 for label in label_ids]\n",
        "        \n",
        "        return {\n",
        "              'ids': torch.tensor(ids, dtype=torch.long),\n",
        "              'mask': torch.tensor(attn_mask, dtype=torch.long),\n",
        "              #'token_type_ids': torch.tensor(token_ids, dtype=torch.long),\n",
        "              'targets': torch.tensor(label_ids, dtype=torch.long)\n",
        "        } \n",
        "    \n",
        "    def __len__(self):\n",
        "        return self.len"
      ],
      "id": "25218f74"
    },
    {
      "cell_type": "markdown",
      "metadata": {
        "id": "f6d91bdb"
      },
      "source": [
        "### Divide dataset into test and train"
      ],
      "id": "f6d91bdb"
    },
    {
      "cell_type": "markdown",
      "metadata": {
        "id": "07673a82"
      },
      "source": [
        "### Helper functions(tokenization, training)"
      ],
      "id": "07673a82"
    },
    {
      "cell_type": "code",
      "execution_count": 16,
      "metadata": {
        "id": "ec5cdc15"
      },
      "outputs": [],
      "source": [
        "def tokenize_and_preserve_labels(sentence, text_labels, tokenizer):\n",
        "    \"\"\"\n",
        "    Word piece tokenization makes it difficult to match word labels\n",
        "    back up with individual word pieces. This function tokenizes each\n",
        "    word one at a time so that it is easier to preserve the correct\n",
        "    label for each subword. It is, of course, a bit slower in processing\n",
        "    time, but it will help our model achieve higher accuracy.\n",
        "    \"\"\"\n",
        "\n",
        "    tokenized_sentence = []\n",
        "    labels = []\n",
        "\n",
        "    sentence = sentence.strip()\n",
        "\n",
        "    for word, label in zip(sentence.split(), text_labels.split(\",\")):\n",
        "\n",
        "        # Tokenize the word and count # of subwords the word is broken into\n",
        "        tokenized_word = tokenizer.tokenize(word)\n",
        "        n_subwords = len(tokenized_word)\n",
        "\n",
        "        # Add the tokenized word to the final tokenized word list\n",
        "        tokenized_sentence.extend(tokenized_word)\n",
        "\n",
        "        # Add the same label to the new list of labels `n_subwords` times\n",
        "        labels.extend([label] * n_subwords)\n",
        "\n",
        "    return tokenized_sentence, labels\n",
        "\n",
        "def train(epoch):\n",
        "    tr_loss, tr_accuracy = 0, 0\n",
        "    nb_tr_examples, nb_tr_steps = 0, 0\n",
        "    tr_preds, tr_labels = [], []\n",
        "    # put model in training mode\n",
        "    model.train()\n",
        "    \n",
        "    for idx, batch in enumerate(training_loader):\n",
        "        \n",
        "        ids = batch['ids'].to(device, dtype = torch.long)\n",
        "        mask = batch['mask'].to(device, dtype = torch.long)\n",
        "        targets = batch['targets'].to(device, dtype = torch.long)\n",
        "\n",
        "        outputs = model(input_ids=ids, attention_mask=mask, labels=targets)\n",
        "        loss, tr_logits = outputs[0], outputs[1]\n",
        "        tr_loss += loss.item()\n",
        "\n",
        "        nb_tr_steps += 1\n",
        "        nb_tr_examples += targets.size(0)\n",
        "        \n",
        "        if idx % 100==0:\n",
        "            loss_step = tr_loss/nb_tr_steps\n",
        "            print(f\"Training loss per 100 training steps: {loss_step}\")\n",
        "           \n",
        "        # compute training accuracy\n",
        "        flattened_targets = targets.view(-1) # shape (batch_size * seq_len,)\n",
        "        active_logits = tr_logits.view(-1, model.num_labels) # shape (batch_size * seq_len, num_labels)\n",
        "        flattened_predictions = torch.argmax(active_logits, axis=1) # shape (batch_size * seq_len,)\n",
        "        # now, use mask to determine where we should compare predictions with targets (includes [CLS] and [SEP] token predictions)\n",
        "        active_accuracy = mask.view(-1) == 1 # active accuracy is also of shape (batch_size * seq_len,)\n",
        "        targets = torch.masked_select(flattened_targets, active_accuracy)\n",
        "        predictions = torch.masked_select(flattened_predictions, active_accuracy)\n",
        "        \n",
        "        tr_preds.extend(predictions)\n",
        "        tr_labels.extend(targets)\n",
        "        \n",
        "        tmp_tr_accuracy = accuracy_score(targets.cpu().numpy(), predictions.cpu().numpy())\n",
        "        tr_accuracy += tmp_tr_accuracy\n",
        "    \n",
        "        # gradient clipping\n",
        "        torch.nn.utils.clip_grad_norm_(\n",
        "            parameters=model.parameters(), max_norm=MAX_GRAD_NORM\n",
        "        )\n",
        "        \n",
        "        # backward pass\n",
        "        optimizer.zero_grad()\n",
        "        loss.backward()\n",
        "        optimizer.step()\n",
        "\n",
        "    epoch_loss = tr_loss / nb_tr_steps\n",
        "    tr_accuracy = tr_accuracy / nb_tr_steps\n",
        "    print(f\"Training loss epoch: {epoch_loss}\")\n",
        "    print(f\"Training accuracy epoch: {tr_accuracy}\")"
      ],
      "id": "ec5cdc15"
    },
    {
      "cell_type": "code",
      "execution_count": 17,
      "metadata": {
        "colab": {
          "base_uri": "https://localhost:8080/"
        },
        "id": "d2838e59",
        "outputId": "5bb3b009-0134-4652-c1fa-ed6711d670f2"
      },
      "outputs": [
        {
          "output_type": "stream",
          "name": "stdout",
          "text": [
            "FULL Dataset: (10770, 3)\n",
            "TRAIN Dataset: (8616, 3)\n",
            "TEST Dataset: (2154, 3)\n"
          ]
        }
      ],
      "source": [
        "train_size = 0.8\n",
        "train_dataset = data.sample(frac=train_size,random_state=200)\n",
        "test_dataset = data.drop(train_dataset.index).reset_index(drop=True)\n",
        "train_dataset = train_dataset.reset_index(drop=True)\n",
        "\n",
        "print(\"FULL Dataset: {}\".format(data.shape))\n",
        "print(\"TRAIN Dataset: {}\".format(train_dataset.shape))\n",
        "print(\"TEST Dataset: {}\".format(test_dataset.shape))\n",
        "\n",
        "training_set = dataset(train_dataset, tokenizer, MAX_LEN)\n",
        "testing_set = dataset(test_dataset, tokenizer, MAX_LEN)"
      ],
      "id": "d2838e59"
    },
    {
      "cell_type": "code",
      "execution_count": 18,
      "metadata": {
        "colab": {
          "base_uri": "https://localhost:8080/"
        },
        "id": "0b96e300",
        "outputId": "504b8596-7f19-4742-e898-0a2661c31e56"
      },
      "outputs": [
        {
          "output_type": "stream",
          "name": "stdout",
          "text": [
            "[CLS]       O\n",
            "my          O\n",
            "friend      O\n",
            "who         O\n",
            "is          O\n",
            "hispanic    O\n",
            "likes       O\n",
            "spicy       O\n",
            "food        O\n",
            ".           O\n",
            "[SEP]       O\n",
            "[PAD]       O\n",
            "[PAD]       O\n",
            "[PAD]       O\n",
            "[PAD]       O\n"
          ]
        }
      ],
      "source": [
        "# print the first 30 tokens and corresponding labels\n",
        "for token, label in zip(tokenizer.convert_ids_to_tokens(training_set[2][\"ids\"][:15]), training_set[0][\"targets\"][:15]):\n",
        "    print('{0:10}  {1}'.format(token, id2label[label.item()]))"
      ],
      "id": "0b96e300"
    },
    {
      "cell_type": "markdown",
      "metadata": {
        "id": "ac82a39b"
      },
      "source": [
        "### Initialize Pytorch dataloaders"
      ],
      "id": "ac82a39b"
    },
    {
      "cell_type": "code",
      "execution_count": 19,
      "metadata": {
        "id": "504782e3"
      },
      "outputs": [],
      "source": [
        "train_params = {'batch_size': TRAIN_BATCH_SIZE,\n",
        "                'shuffle': True,\n",
        "                'num_workers': 0\n",
        "                }\n",
        "\n",
        "test_params = {'batch_size': VALID_BATCH_SIZE,\n",
        "                'shuffle': True,\n",
        "                'num_workers': 0\n",
        "                }\n",
        "\n",
        "training_loader = DataLoader(training_set, **train_params)\n",
        "testing_loader = DataLoader(testing_set, **test_params)"
      ],
      "id": "504782e3"
    },
    {
      "cell_type": "code",
      "execution_count": 20,
      "metadata": {
        "id": "ab86328e"
      },
      "outputs": [],
      "source": [
        "test_dataset.to_csv(\"test_final.csv\", index=False)\n",
        "train_dataset.to_csv(\"train_final.csv\", index=False)"
      ],
      "id": "ab86328e"
    },
    {
      "cell_type": "markdown",
      "metadata": {
        "id": "176ce394"
      },
      "source": [
        "### Initialize model and optimizer"
      ],
      "id": "176ce394"
    },
    {
      "cell_type": "code",
      "execution_count": 21,
      "metadata": {
        "colab": {
          "base_uri": "https://localhost:8080/",
          "height": 158,
          "referenced_widgets": [
            "785196138ec8416da9efafc405256024",
            "66fb4e0f1f6e446194d3e86c94235c22",
            "52d496e8f9be425b94799078e45df56e",
            "3392676c46824be7ac35f987d7186017",
            "071627c722cc451fb870c2f671f42145",
            "6e208540c2c84f638c671b39396475c0",
            "f59364cb0bcd4910b6fcab2c8f9c38bb",
            "cff942d28a414325ab54147da8a0d58a",
            "4fc464b2cc2943f2a3f23d8cbecbface",
            "c5a389ddc5ac4a079c206f81fe578025",
            "ca1dcc6dc2604ad091ac392ad7f60d4f"
          ]
        },
        "id": "f8b307db",
        "outputId": "c795930e-7f91-4336-b93d-2d66ba7bbb7a"
      },
      "outputs": [
        {
          "output_type": "display_data",
          "data": {
            "text/plain": [
              "Downloading pytorch_model.bin:   0%|          | 0.00/440M [00:00<?, ?B/s]"
            ],
            "application/vnd.jupyter.widget-view+json": {
              "version_major": 2,
              "version_minor": 0,
              "model_id": "785196138ec8416da9efafc405256024"
            }
          },
          "metadata": {}
        },
        {
          "output_type": "stream",
          "name": "stderr",
          "text": [
            "Some weights of the model checkpoint at bert-base-uncased were not used when initializing BertForTokenClassification: ['cls.predictions.bias', 'cls.predictions.decoder.weight', 'cls.seq_relationship.weight', 'cls.predictions.transform.dense.bias', 'cls.predictions.transform.dense.weight', 'cls.seq_relationship.bias', 'cls.predictions.transform.LayerNorm.weight', 'cls.predictions.transform.LayerNorm.bias']\n",
            "- This IS expected if you are initializing BertForTokenClassification from the checkpoint of a model trained on another task or with another architecture (e.g. initializing a BertForSequenceClassification model from a BertForPreTraining model).\n",
            "- This IS NOT expected if you are initializing BertForTokenClassification from the checkpoint of a model that you expect to be exactly identical (initializing a BertForSequenceClassification model from a BertForSequenceClassification model).\n",
            "Some weights of BertForTokenClassification were not initialized from the model checkpoint at bert-base-uncased and are newly initialized: ['classifier.weight', 'classifier.bias']\n",
            "You should probably TRAIN this model on a down-stream task to be able to use it for predictions and inference.\n"
          ]
        }
      ],
      "source": [
        "#model = BertForTokenClassification.from_pretrained(\"model\", from_tf=False) # From already pretrained model\n",
        "model = BertForTokenClassification.from_pretrained('bert-base-uncased', \n",
        "                                                   num_labels=len(id2label),\n",
        "                                                   id2label=id2label,\n",
        "                                                   label2id=label2id)\n",
        "model.to(device)\n",
        "\n",
        "optimizer = torch.optim.Adam(params=model.parameters(), lr=LEARNING_RATE)"
      ],
      "id": "f8b307db"
    },
    {
      "cell_type": "markdown",
      "metadata": {
        "id": "0dc9e846"
      },
      "source": [
        "### Training"
      ],
      "id": "0dc9e846"
    },
    {
      "cell_type": "code",
      "execution_count": 22,
      "metadata": {
        "colab": {
          "base_uri": "https://localhost:8080/"
        },
        "id": "5830e902",
        "outputId": "2fedc6ae-1a30-43af-d5f8-2417b62d4377"
      },
      "outputs": [
        {
          "output_type": "stream",
          "name": "stdout",
          "text": [
            "Training epoch: 1\n",
            "Training loss per 100 training steps: 1.9748815298080444\n",
            "Training loss per 100 training steps: 0.2972376708789627\n",
            "Training loss per 100 training steps: 0.18692359531214878\n",
            "Training loss per 100 training steps: 0.144690824777779\n",
            "Training loss per 100 training steps: 0.11982414491028709\n",
            "Training loss per 100 training steps: 0.10318321124009208\n",
            "Training loss per 100 training steps: 0.09090822576676896\n",
            "Training loss per 100 training steps: 0.08218392978067618\n",
            "Training loss per 100 training steps: 0.07490979334323222\n",
            "Training loss per 100 training steps: 0.06907425521687914\n",
            "Training loss per 100 training steps: 0.06428145561376578\n",
            "Training loss per 100 training steps: 0.060281082513242226\n",
            "Training loss per 100 training steps: 0.05673045400575852\n",
            "Training loss per 100 training steps: 0.05379753548964761\n",
            "Training loss per 100 training steps: 0.051269389141210056\n",
            "Training loss per 100 training steps: 0.04892298973569997\n",
            "Training loss per 100 training steps: 0.046823284450451905\n",
            "Training loss per 100 training steps: 0.04490131938312343\n",
            "Training loss per 100 training steps: 0.04321426130914756\n",
            "Training loss per 100 training steps: 0.04169396161272493\n",
            "Training loss per 100 training steps: 0.040229602527840976\n",
            "Training loss per 100 training steps: 0.038926718984123254\n",
            "Training loss epoch: 0.03825136808809948\n",
            "Training accuracy epoch: 0.9377210717958465\n",
            "Training epoch: 2\n",
            "Training loss per 100 training steps: 0.005834334995597601\n",
            "Training loss per 100 training steps: 0.00960800963186539\n",
            "Training loss per 100 training steps: 0.01047539706712598\n",
            "Training loss per 100 training steps: 0.009800291880292267\n",
            "Training loss per 100 training steps: 0.009407512586246804\n",
            "Training loss per 100 training steps: 0.009790909291963518\n",
            "Training loss per 100 training steps: 0.009636076805088824\n",
            "Training loss per 100 training steps: 0.009427971625933092\n",
            "Training loss per 100 training steps: 0.009322527907140549\n",
            "Training loss per 100 training steps: 0.00894733854357854\n",
            "Training loss per 100 training steps: 0.00866966954108884\n",
            "Training loss per 100 training steps: 0.008667009109566682\n",
            "Training loss per 100 training steps: 0.008550210616261125\n",
            "Training loss per 100 training steps: 0.008431411485503042\n",
            "Training loss per 100 training steps: 0.008317494034793907\n",
            "Training loss per 100 training steps: 0.008158280577720469\n",
            "Training loss per 100 training steps: 0.008037775717117241\n",
            "Training loss per 100 training steps: 0.007916679418848242\n",
            "Training loss per 100 training steps: 0.007830523202193953\n",
            "Training loss per 100 training steps: 0.007682648838395674\n",
            "Training loss per 100 training steps: 0.0075879085130833865\n",
            "Training loss per 100 training steps: 0.007533347132398097\n",
            "Training loss epoch: 0.007448758025114389\n",
            "Training accuracy epoch: 0.9817754226697081\n",
            "Training epoch: 3\n",
            "Training loss per 100 training steps: 0.003558831289410591\n",
            "Training loss per 100 training steps: 0.003896227328044519\n",
            "Training loss per 100 training steps: 0.004044654721797291\n",
            "Training loss per 100 training steps: 0.0040529294808138395\n",
            "Training loss per 100 training steps: 0.004151841952390574\n",
            "Training loss per 100 training steps: 0.004046742890469085\n",
            "Training loss per 100 training steps: 0.004044661447182089\n",
            "Training loss per 100 training steps: 0.004037027113044471\n",
            "Training loss per 100 training steps: 0.0038822643584487484\n",
            "Training loss per 100 training steps: 0.003781482103958671\n",
            "Training loss per 100 training steps: 0.003782254972820892\n",
            "Training loss per 100 training steps: 0.0038175109056349872\n",
            "Training loss per 100 training steps: 0.003788459506505235\n",
            "Training loss per 100 training steps: 0.0038628450095290062\n",
            "Training loss per 100 training steps: 0.0038026907341197455\n",
            "Training loss per 100 training steps: 0.0038079508325545896\n",
            "Training loss per 100 training steps: 0.003755974338626545\n",
            "Training loss per 100 training steps: 0.0037602515464509262\n",
            "Training loss per 100 training steps: 0.0037401015991875737\n",
            "Training loss per 100 training steps: 0.003706704483273256\n",
            "Training loss per 100 training steps: 0.003709089166770663\n",
            "Training loss per 100 training steps: 0.003690361692172033\n",
            "Training loss epoch: 0.0036713970319163973\n",
            "Training accuracy epoch: 0.9911677485528682\n",
            "Training epoch: 4\n",
            "Training loss per 100 training steps: 0.00484433164820075\n",
            "Training loss per 100 training steps: 0.0013255892348265977\n",
            "Training loss per 100 training steps: 0.002178447194578733\n",
            "Training loss per 100 training steps: 0.002341164044236789\n",
            "Training loss per 100 training steps: 0.0024256871518700154\n",
            "Training loss per 100 training steps: 0.0022784885119387934\n",
            "Training loss per 100 training steps: 0.002246064116908396\n",
            "Training loss per 100 training steps: 0.002185621750062749\n",
            "Training loss per 100 training steps: 0.002228550723482888\n",
            "Training loss per 100 training steps: 0.0023421293252019046\n",
            "Training loss per 100 training steps: 0.0023354298397819592\n",
            "Training loss per 100 training steps: 0.002350559260020361\n",
            "Training loss per 100 training steps: 0.002282622617478302\n",
            "Training loss per 100 training steps: 0.0022408163009412663\n",
            "Training loss per 100 training steps: 0.0022316284001091358\n",
            "Training loss per 100 training steps: 0.00223821684411233\n",
            "Training loss per 100 training steps: 0.0021987117755297033\n",
            "Training loss per 100 training steps: 0.002218750465159901\n",
            "Training loss per 100 training steps: 0.002215862440717036\n",
            "Training loss per 100 training steps: 0.0022370546313499294\n",
            "Training loss per 100 training steps: 0.002224390170205492\n",
            "Training loss per 100 training steps: 0.0022266434342380153\n",
            "Training loss epoch: 0.002212551448953804\n",
            "Training accuracy epoch: 0.994675272100666\n",
            "Training epoch: 5\n",
            "Training loss per 100 training steps: 0.0003098466550000012\n",
            "Training loss per 100 training steps: 0.0018999032072675654\n",
            "Training loss per 100 training steps: 0.0015449817056195122\n",
            "Training loss per 100 training steps: 0.001711002756981972\n",
            "Training loss per 100 training steps: 0.0017108622507334883\n",
            "Training loss per 100 training steps: 0.0017162407225214792\n",
            "Training loss per 100 training steps: 0.0015940747997987828\n",
            "Training loss per 100 training steps: 0.0015834747393297186\n",
            "Training loss per 100 training steps: 0.0015325692707102484\n",
            "Training loss per 100 training steps: 0.0015309600862095892\n",
            "Training loss per 100 training steps: 0.0015163214821940357\n",
            "Training loss per 100 training steps: 0.0015765790248720684\n",
            "Training loss per 100 training steps: 0.0015633903483022315\n",
            "Training loss per 100 training steps: 0.0016033246477300202\n",
            "Training loss per 100 training steps: 0.001576377976017413\n",
            "Training loss per 100 training steps: 0.001677849268344168\n",
            "Training loss per 100 training steps: 0.0016847875717772346\n",
            "Training loss per 100 training steps: 0.0016668407767302404\n",
            "Training loss per 100 training steps: 0.0016389857979939562\n",
            "Training loss per 100 training steps: 0.0016891928141038162\n",
            "Training loss per 100 training steps: 0.0016928809057661376\n",
            "Training loss per 100 training steps: 0.0017057328651108171\n",
            "Training loss epoch: 0.0016923314762730627\n",
            "Training accuracy epoch: 0.9959779519997658\n",
            "Training epoch: 6\n",
            "Training loss per 100 training steps: 0.0002923479478340596\n",
            "Training loss per 100 training steps: 0.001188159830586427\n",
            "Training loss per 100 training steps: 0.0012277539379518846\n",
            "Training loss per 100 training steps: 0.0011252995559984766\n",
            "Training loss per 100 training steps: 0.0010749666286762915\n",
            "Training loss per 100 training steps: 0.0012262948099476148\n",
            "Training loss per 100 training steps: 0.0012594930348421383\n",
            "Training loss per 100 training steps: 0.0011543033328514727\n",
            "Training loss per 100 training steps: 0.0011594926855308786\n",
            "Training loss per 100 training steps: 0.0011041509981671118\n",
            "Training loss per 100 training steps: 0.001148171932465237\n",
            "Training loss per 100 training steps: 0.0011765031110217163\n",
            "Training loss per 100 training steps: 0.0012239879719244005\n",
            "Training loss per 100 training steps: 0.00123375572226383\n",
            "Training loss per 100 training steps: 0.001246426887608778\n",
            "Training loss per 100 training steps: 0.0012808733091690015\n",
            "Training loss per 100 training steps: 0.0012877391884142046\n",
            "Training loss per 100 training steps: 0.0012984276524133029\n",
            "Training loss per 100 training steps: 0.0012977042668935288\n",
            "Training loss per 100 training steps: 0.0013126681091482652\n",
            "Training loss per 100 training steps: 0.0013357834362221562\n",
            "Training loss per 100 training steps: 0.0013441614915221754\n",
            "Training loss epoch: 0.0013406095714068558\n",
            "Training accuracy epoch: 0.9967396110278992\n",
            "Training epoch: 7\n",
            "Training loss per 100 training steps: 4.5560442231362686e-05\n",
            "Training loss per 100 training steps: 0.0007107652182991058\n",
            "Training loss per 100 training steps: 0.0009631582235480022\n",
            "Training loss per 100 training steps: 0.001050731313508033\n",
            "Training loss per 100 training steps: 0.0011150276145520108\n",
            "Training loss per 100 training steps: 0.0010288208900864468\n",
            "Training loss per 100 training steps: 0.0009873645637092034\n",
            "Training loss per 100 training steps: 0.0009580893772976619\n",
            "Training loss per 100 training steps: 0.0009510180810044748\n",
            "Training loss per 100 training steps: 0.0009464172045902622\n",
            "Training loss per 100 training steps: 0.0009487343519834427\n",
            "Training loss per 100 training steps: 0.0009566721923366838\n",
            "Training loss per 100 training steps: 0.000977985014953347\n",
            "Training loss per 100 training steps: 0.0009932735682756442\n",
            "Training loss per 100 training steps: 0.000999046019198696\n",
            "Training loss per 100 training steps: 0.0010171500566305996\n",
            "Training loss per 100 training steps: 0.0010342079688272952\n",
            "Training loss per 100 training steps: 0.0010452575516597304\n",
            "Training loss per 100 training steps: 0.0010557284529761186\n",
            "Training loss per 100 training steps: 0.001098156142817998\n",
            "Training loss per 100 training steps: 0.0011157707807827122\n",
            "Training loss per 100 training steps: 0.0011146912140995906\n",
            "Training loss epoch: 0.0011107138327248573\n",
            "Training accuracy epoch: 0.997341115232634\n",
            "Training epoch: 8\n",
            "Training loss per 100 training steps: 0.007182152476161718\n",
            "Training loss per 100 training steps: 0.0008294279484676501\n",
            "Training loss per 100 training steps: 0.0006135476439941787\n",
            "Training loss per 100 training steps: 0.0006584082098181829\n",
            "Training loss per 100 training steps: 0.0006336421659822312\n",
            "Training loss per 100 training steps: 0.0006212188501719399\n",
            "Training loss per 100 training steps: 0.000672993862476362\n",
            "Training loss per 100 training steps: 0.0006991188683930162\n",
            "Training loss per 100 training steps: 0.0007679286545306254\n",
            "Training loss per 100 training steps: 0.000719517312401703\n",
            "Training loss per 100 training steps: 0.0007297518098745534\n",
            "Training loss per 100 training steps: 0.0007592381444406588\n",
            "Training loss per 100 training steps: 0.0007609347961258513\n",
            "Training loss per 100 training steps: 0.0007920751634165201\n",
            "Training loss per 100 training steps: 0.0008326349544442667\n",
            "Training loss per 100 training steps: 0.0008520551811675732\n",
            "Training loss per 100 training steps: 0.0008609230160261968\n",
            "Training loss per 100 training steps: 0.0008727113435730801\n",
            "Training loss per 100 training steps: 0.0008953435779823817\n",
            "Training loss per 100 training steps: 0.0009022796597245921\n",
            "Training loss per 100 training steps: 0.0008862423315110738\n",
            "Training loss per 100 training steps: 0.000883156805773157\n",
            "Training loss epoch: 0.0008715008652773778\n",
            "Training accuracy epoch: 0.9978554134687175\n",
            "Training epoch: 9\n",
            "Training loss per 100 training steps: 2.634801967360545e-05\n",
            "Training loss per 100 training steps: 0.0008132164079106948\n",
            "Training loss per 100 training steps: 0.0006889622616165694\n",
            "Training loss per 100 training steps: 0.0006031022390242019\n",
            "Training loss per 100 training steps: 0.0006840829277883442\n",
            "Training loss per 100 training steps: 0.0007200767830711298\n",
            "Training loss per 100 training steps: 0.0008000602007667962\n",
            "Training loss per 100 training steps: 0.0008034866181885903\n",
            "Training loss per 100 training steps: 0.0007730597076629913\n",
            "Training loss per 100 training steps: 0.000767417006918085\n",
            "Training loss per 100 training steps: 0.0008114727127837535\n",
            "Training loss per 100 training steps: 0.000806099736284199\n",
            "Training loss per 100 training steps: 0.0007918590048337638\n",
            "Training loss per 100 training steps: 0.0007742101726572337\n",
            "Training loss per 100 training steps: 0.0007588639190032001\n",
            "Training loss per 100 training steps: 0.0007790080240728767\n",
            "Training loss per 100 training steps: 0.0007729400146270929\n",
            "Training loss per 100 training steps: 0.0007592181509404874\n",
            "Training loss per 100 training steps: 0.0007686743318270314\n",
            "Training loss per 100 training steps: 0.0008020225661765549\n",
            "Training loss per 100 training steps: 0.0007873861310487711\n",
            "Training loss per 100 training steps: 0.0007948087067784354\n",
            "Training loss epoch: 0.0007822624345114804\n",
            "Training accuracy epoch: 0.9982650826847556\n",
            "Training epoch: 10\n",
            "Training loss per 100 training steps: 2.3167018298408948e-05\n",
            "Training loss per 100 training steps: 0.000897928064957098\n",
            "Training loss per 100 training steps: 0.0008650909717357197\n",
            "Training loss per 100 training steps: 0.0008409351819356616\n",
            "Training loss per 100 training steps: 0.0008319075398338059\n",
            "Training loss per 100 training steps: 0.0008473336083026259\n",
            "Training loss per 100 training steps: 0.000827131614487628\n",
            "Training loss per 100 training steps: 0.0008114304609237124\n",
            "Training loss per 100 training steps: 0.0008154396648339631\n",
            "Training loss per 100 training steps: 0.0007771956019845691\n",
            "Training loss per 100 training steps: 0.0008003465779868317\n",
            "Training loss per 100 training steps: 0.0008370387907859874\n",
            "Training loss per 100 training steps: 0.0008115511457009589\n",
            "Training loss per 100 training steps: 0.0007995981900145477\n",
            "Training loss per 100 training steps: 0.0008104051698056855\n",
            "Training loss per 100 training steps: 0.0008135297143474925\n",
            "Training loss per 100 training steps: 0.0007905002801358197\n",
            "Training loss per 100 training steps: 0.0008089174475403356\n",
            "Training loss per 100 training steps: 0.0007956513686397479\n",
            "Training loss per 100 training steps: 0.0007849357204406446\n",
            "Training loss per 100 training steps: 0.0007983832646296459\n",
            "Training loss per 100 training steps: 0.0007976571211342138\n",
            "Training loss epoch: 0.0008125271920318598\n",
            "Training accuracy epoch: 0.9979688537547841\n"
          ]
        }
      ],
      "source": [
        "for epoch in range(10):\n",
        "    print(f\"Training epoch: {epoch + 1}\")\n",
        "    train(epoch)"
      ],
      "id": "5830e902"
    },
    {
      "cell_type": "markdown",
      "metadata": {
        "id": "62795b4a"
      },
      "source": [
        "### Validation"
      ],
      "id": "62795b4a"
    },
    {
      "cell_type": "code",
      "execution_count": 23,
      "metadata": {
        "id": "b0ce95c0"
      },
      "outputs": [],
      "source": [
        "def valid(model, testing_loader):\n",
        "    # put model in evaluation mode\n",
        "    model.eval()\n",
        "    \n",
        "    eval_loss, eval_accuracy = 0, 0\n",
        "    nb_eval_examples, nb_eval_steps = 0, 0\n",
        "    eval_preds, eval_labels = [], []\n",
        "    \n",
        "    with torch.no_grad():\n",
        "        for idx, batch in enumerate(testing_loader):\n",
        "            \n",
        "            ids = batch['ids'].to(device, dtype = torch.long)\n",
        "            mask = batch['mask'].to(device, dtype = torch.long)\n",
        "            targets = batch['targets'].to(device, dtype = torch.long)\n",
        "            \n",
        "            outputs = model(input_ids=ids, attention_mask=mask, labels=targets)\n",
        "            loss, eval_logits = outputs[0], outputs[1]\n",
        "            \n",
        "            eval_loss += loss.item()\n",
        "\n",
        "            nb_eval_steps += 1\n",
        "            nb_eval_examples += targets.size(0)\n",
        "        \n",
        "            if idx % 100==0:\n",
        "                loss_step = eval_loss/nb_eval_steps\n",
        "                print(f\"Validation loss per 100 evaluation steps: {loss_step}\")\n",
        "              \n",
        "            # compute evaluation accuracy\n",
        "            flattened_targets = targets.view(-1) # shape (batch_size * seq_len,)\n",
        "            active_logits = eval_logits.view(-1, model.num_labels) # shape (batch_size * seq_len, num_labels)\n",
        "            flattened_predictions = torch.argmax(active_logits, axis=1) # shape (batch_size * seq_len,)\n",
        "            # now, use mask to determine where we should compare predictions with targets (includes [CLS] and [SEP] token predictions)\n",
        "            active_accuracy = mask.view(-1) == 1 # active accuracy is also of shape (batch_size * seq_len,)\n",
        "            targets = torch.masked_select(flattened_targets, active_accuracy)\n",
        "            predictions = torch.masked_select(flattened_predictions, active_accuracy)\n",
        "            \n",
        "            eval_labels.extend(targets)\n",
        "            eval_preds.extend(predictions)\n",
        "            \n",
        "            tmp_eval_accuracy = accuracy_score(targets.cpu().numpy(), predictions.cpu().numpy())\n",
        "            eval_accuracy += tmp_eval_accuracy\n",
        "    \n",
        "    #print(eval_labels)\n",
        "    #print(eval_preds)\n",
        "\n",
        "    labels = [id2label[id.item()] for id in eval_labels]\n",
        "    predictions = [id2label[id.item()] for id in eval_preds]\n",
        "\n",
        "    #print(labels)\n",
        "    #print(predictions)\n",
        "    \n",
        "    eval_loss = eval_loss / nb_eval_steps\n",
        "    eval_accuracy = eval_accuracy / nb_eval_steps\n",
        "    print(f\"Validation Loss: {eval_loss}\")\n",
        "    print(f\"Validation Accuracy: {eval_accuracy}\")\n",
        "\n",
        "    return labels, predictions"
      ],
      "id": "b0ce95c0"
    },
    {
      "cell_type": "code",
      "execution_count": 24,
      "metadata": {
        "id": "5f022c0c",
        "colab": {
          "base_uri": "https://localhost:8080/"
        },
        "outputId": "08ab8b5f-85b6-4e50-d81c-a5e0e8ef53a6"
      },
      "outputs": [
        {
          "output_type": "stream",
          "name": "stdout",
          "text": [
            "Validation loss per 100 evaluation steps: 8.777196853770874e-06\n",
            "Validation loss per 100 evaluation steps: 0.002614456384097787\n",
            "Validation loss per 100 evaluation steps: 0.0033391924123237398\n",
            "Validation loss per 100 evaluation steps: 0.003347425565921653\n",
            "Validation loss per 100 evaluation steps: 0.003273916764204356\n",
            "Validation loss per 100 evaluation steps: 0.003469449478532392\n",
            "Validation loss per 100 evaluation steps: 0.0030926563155909705\n",
            "Validation loss per 100 evaluation steps: 0.003213185143212988\n",
            "Validation loss per 100 evaluation steps: 0.0029351567127911737\n",
            "Validation loss per 100 evaluation steps: 0.002994733451445877\n",
            "Validation loss per 100 evaluation steps: 0.00290959206627217\n",
            "Validation Loss: 0.0028789781675933046\n",
            "Validation Accuracy: 0.9948627733584499\n"
          ]
        }
      ],
      "source": [
        "labels, predictions = valid(model, testing_loader)"
      ],
      "id": "5f022c0c"
    },
    {
      "cell_type": "code",
      "source": [
        "from sklearn.metrics import classification_report\n",
        "\n",
        "# calculate additional metrics\n",
        "report = classification_report(labels, predictions, digits=9)\n",
        "print(f\"Classification Report:\\n{report}\")"
      ],
      "metadata": {
        "colab": {
          "base_uri": "https://localhost:8080/"
        },
        "id": "XHam1-CnqqGC",
        "outputId": "947a191b-6ad6-4885-f26c-14772b05b41e"
      },
      "id": "XHam1-CnqqGC",
      "execution_count": 25,
      "outputs": [
        {
          "output_type": "stream",
          "name": "stdout",
          "text": [
            "Classification Report:\n",
            "                         precision    recall  f1-score   support\n",
            "\n",
            "Behavioural Stereotypes  0.915175097 0.988235294 0.950303030      1190\n",
            "Explicit Marking of Sex  0.938967136 0.990099010 0.963855422       202\n",
            "             Generic he  0.990338164 0.990338164 0.990338164       207\n",
            "            Generic she  0.989637306 0.989637306 0.989637306       193\n",
            "                      O  0.998926361 0.995186712 0.997053030     31787\n",
            "   Societal Stereotypes  0.989071038 0.989071038 0.989071038       549\n",
            "                   race  0.993193972 0.995614035 0.994402531      2052\n",
            "               religion  0.960176991 0.995412844 0.977477477       218\n",
            "\n",
            "               accuracy                      0.994807407     36398\n",
            "              macro avg  0.971935758 0.991699300 0.981517250     36398\n",
            "           weighted avg  0.995053425 0.994807407 0.994875766     36398\n",
            "\n"
          ]
        }
      ]
    },
    {
      "cell_type": "code",
      "source": [
        "from sklearn.metrics import confusion_matrix\n",
        "import seaborn as sns\n",
        "import matplotlib.pyplot as plt\n",
        "\n",
        "\n",
        "label_list = ['O', 'race', 'religion', \n",
        "                'Generic she', 'Generic he',\n",
        "               'Behavioural Stereotypes', \n",
        "               'Societal Stereotypes', \n",
        "               'Explicit Marking of Sex']\n",
        "\n",
        "# Create confusion matrix\n",
        "conf_mat = confusion_matrix(labels, predictions, labels=label_list)\n",
        "\n",
        "\n",
        "# Plot confusion matrix using seaborn heatmap\n",
        "\n",
        "sns.heatmap(conf_mat, annot=True, fmt='.0f', xticklabels=label_list, yticklabels=label_list, cmap='mako')\n",
        "plt.xlabel('Predicted labels')\n",
        "plt.ylabel('True labels')\n",
        "plt.title('Confusion Matrix')\n",
        "plt.show()"
      ],
      "metadata": {
        "id": "VnElmHrzqqD7",
        "colab": {
          "base_uri": "https://localhost:8080/",
          "height": 629
        },
        "outputId": "fc6f433a-902e-4741-f727-dd74e9bf37e5"
      },
      "id": "VnElmHrzqqD7",
      "execution_count": 26,
      "outputs": [
        {
          "output_type": "display_data",
          "data": {
            "text/plain": [
              "<Figure size 640x480 with 2 Axes>"
            ],
            "image/png": "[encoded data removed]"
          },
          "metadata": {}
        }
      ]
    },
    {
      "cell_type": "code",
      "source": [],
      "metadata": {
        "id": "6wpFP3DPqqBj"
      },
      "id": "6wpFP3DPqqBj",
      "execution_count": 26,
      "outputs": []
    },
    {
      "cell_type": "code",
      "source": [],
      "metadata": {
        "id": "n09fv6Zjqp1w"
      },
      "id": "n09fv6Zjqp1w",
      "execution_count": 26,
      "outputs": []
    },
    {
      "cell_type": "markdown",
      "metadata": {
        "id": "624867de"
      },
      "source": [
        "### Save model"
      ],
      "id": "624867de"
    },
    {
      "cell_type": "markdown",
      "source": [],
      "metadata": {
        "id": "W2GxqGEEp9or"
      },
      "id": "W2GxqGEEp9or"
    },
    {
      "cell_type": "code",
      "execution_count": 27,
      "metadata": {
        "id": "caa375b2"
      },
      "outputs": [],
      "source": [
        "import os\n",
        "folder_name = \"/content/gdrive/MyDrive/bias_detection_syetem/race_and_religion_bias/model_v2\" # Pick name and path for the folder you want to save the model in\n",
        "os.makedirs(folder_name)\n",
        "model.save_pretrained(folder_name)"
      ],
      "id": "caa375b2"
    },
    {
      "cell_type": "code",
      "execution_count": 27,
      "metadata": {
        "id": "49d97ee5"
      },
      "outputs": [],
      "source": [],
      "id": "49d97ee5"
    }
  ],
  "metadata": {
    "accelerator": "GPU",
    "colab": {
      "provenance": [],
      "gpuType": "T4",
      "gpuClass": "premium",
      "include_colab_link": true
    },
    "gpuClass": "premium",
    "kernelspec": {
      "display_name": "Python 3 (ipykernel)",
      "language": "python",
      "name": "python3"
    },
    "language_info": {
      "codemirror_mode": {
        "name": "ipython",
        "version": 3
      },
      "file_extension": ".py",
      "mimetype": "text/x-python",
      "name": "python",
      "nbconvert_exporter": "python",
      "pygments_lexer": "ipython3",
      "version": "3.9.13"
    },
    "widgets": {
      "application/vnd.jupyter.widget-state+json": {
        "bf93f5bfb0ae4944aa4fb80bec6f270b": {
          "model_module": "@jupyter-widgets/controls",
          "model_name": "HBoxModel",
          "model_module_version": "1.5.0",
          "state": {
            "_dom_classes": [],
            "_model_module": "@jupyter-widgets/controls",
            "_model_module_version": "1.5.0",
            "_model_name": "HBoxModel",
            "_view_count": null,
            "_view_module": "@jupyter-widgets/controls",
            "_view_module_version": "1.5.0",
            "_view_name": "HBoxView",
            "box_style": "",
            "children": [
              "IPY_MODEL_3e360c95fc404c6cb51b0e748e92083e",
              "IPY_MODEL_66bc8983951744b8af8b9c375ea86846",
              "IPY_MODEL_55a1923f4e3f4de089655ff23ebd1e45"
            ],
            "layout": "IPY_MODEL_51fcf2748f24443680bc444616ee817e"
          }
        },
        "3e360c95fc404c6cb51b0e748e92083e": {
          "model_module": "@jupyter-widgets/controls",
          "model_name": "HTMLModel",
          "model_module_version": "1.5.0",
          "state": {
            "_dom_classes": [],
            "_model_module": "@jupyter-widgets/controls",
            "_model_module_version": "1.5.0",
            "_model_name": "HTMLModel",
            "_view_count": null,
            "_view_module": "@jupyter-widgets/controls",
            "_view_module_version": "1.5.0",
            "_view_name": "HTMLView",
            "description": "",
            "description_tooltip": null,
            "layout": "IPY_MODEL_3be67f56df334e89a62f09929fff2d4f",
            "placeholder": "​",
            "style": "IPY_MODEL_c0c4227886844e059f48fe37ed33d1d8",
            "value": "Downloading (…)solve/main/vocab.txt: 100%"
          }
        },
        "66bc8983951744b8af8b9c375ea86846": {
          "model_module": "@jupyter-widgets/controls",
          "model_name": "FloatProgressModel",
          "model_module_version": "1.5.0",
          "state": {
            "_dom_classes": [],
            "_model_module": "@jupyter-widgets/controls",
            "_model_module_version": "1.5.0",
            "_model_name": "FloatProgressModel",
            "_view_count": null,
            "_view_module": "@jupyter-widgets/controls",
            "_view_module_version": "1.5.0",
            "_view_name": "ProgressView",
            "bar_style": "success",
            "description": "",
            "description_tooltip": null,
            "layout": "IPY_MODEL_4431c416028745e59cf836ff8a6aa933",
            "max": 231508,
            "min": 0,
            "orientation": "horizontal",
            "style": "IPY_MODEL_44617899a22d4bacb7d60fa01387a1f6",
            "value": 231508
          }
        },
        "55a1923f4e3f4de089655ff23ebd1e45": {
          "model_module": "@jupyter-widgets/controls",
          "model_name": "HTMLModel",
          "model_module_version": "1.5.0",
          "state": {
            "_dom_classes": [],
            "_model_module": "@jupyter-widgets/controls",
            "_model_module_version": "1.5.0",
            "_model_name": "HTMLModel",
            "_view_count": null,
            "_view_module": "@jupyter-widgets/controls",
            "_view_module_version": "1.5.0",
            "_view_name": "HTMLView",
            "description": "",
            "description_tooltip": null,
            "layout": "IPY_MODEL_8ca8679df1da45c8bfbe956789eb5242",
            "placeholder": "​",
            "style": "IPY_MODEL_4814daf6918e47129adf2795b4def1ca",
            "value": " 232k/232k [00:00&lt;00:00, 537kB/s]"
          }
        },
        "51fcf2748f24443680bc444616ee817e": {
          "model_module": "@jupyter-widgets/base",
          "model_name": "LayoutModel",
          "model_module_version": "1.2.0",
          "state": {
            "_model_module": "@jupyter-widgets/base",
            "_model_module_version": "1.2.0",
            "_model_name": "LayoutModel",
            "_view_count": null,
            "_view_module": "@jupyter-widgets/base",
            "_view_module_version": "1.2.0",
            "_view_name": "LayoutView",
            "align_content": null,
            "align_items": null,
            "align_self": null,
            "border": null,
            "bottom": null,
            "display": null,
            "flex": null,
            "flex_flow": null,
            "grid_area": null,
            "grid_auto_columns": null,
            "grid_auto_flow": null,
            "grid_auto_rows": null,
            "grid_column": null,
            "grid_gap": null,
            "grid_row": null,
            "grid_template_areas": null,
            "grid_template_columns": null,
            "grid_template_rows": null,
            "height": null,
            "justify_content": null,
            "justify_items": null,
            "left": null,
            "margin": null,
            "max_height": null,
            "max_width": null,
            "min_height": null,
            "min_width": null,
            "object_fit": null,
            "object_position": null,
            "order": null,
            "overflow": null,
            "overflow_x": null,
            "overflow_y": null,
            "padding": null,
            "right": null,
            "top": null,
            "visibility": null,
            "width": null
          }
        },
        "3be67f56df334e89a62f09929fff2d4f": {
          "model_module": "@jupyter-widgets/base",
          "model_name": "LayoutModel",
          "model_module_version": "1.2.0",
          "state": {
            "_model_module": "@jupyter-widgets/base",
            "_model_module_version": "1.2.0",
            "_model_name": "LayoutModel",
            "_view_count": null,
            "_view_module": "@jupyter-widgets/base",
            "_view_module_version": "1.2.0",
            "_view_name": "LayoutView",
            "align_content": null,
            "align_items": null,
            "align_self": null,
            "border": null,
            "bottom": null,
            "display": null,
            "flex": null,
            "flex_flow": null,
            "grid_area": null,
            "grid_auto_columns": null,
            "grid_auto_flow": null,
            "grid_auto_rows": null,
            "grid_column": null,
            "grid_gap": null,
            "grid_row": null,
            "grid_template_areas": null,
            "grid_template_columns": null,
            "grid_template_rows": null,
            "height": null,
            "justify_content": null,
            "justify_items": null,
            "left": null,
            "margin": null,
            "max_height": null,
            "max_width": null,
            "min_height": null,
            "min_width": null,
            "object_fit": null,
            "object_position": null,
            "order": null,
            "overflow": null,
            "overflow_x": null,
            "overflow_y": null,
            "padding": null,
            "right": null,
            "top": null,
            "visibility": null,
            "width": null
          }
        },
        "c0c4227886844e059f48fe37ed33d1d8": {
          "model_module": "@jupyter-widgets/controls",
          "model_name": "DescriptionStyleModel",
          "model_module_version": "1.5.0",
          "state": {
            "_model_module": "@jupyter-widgets/controls",
            "_model_module_version": "1.5.0",
            "_model_name": "DescriptionStyleModel",
            "_view_count": null,
            "_view_module": "@jupyter-widgets/base",
            "_view_module_version": "1.2.0",
            "_view_name": "StyleView",
            "description_width": ""
          }
        },
        "4431c416028745e59cf836ff8a6aa933": {
          "model_module": "@jupyter-widgets/base",
          "model_name": "LayoutModel",
          "model_module_version": "1.2.0",
          "state": {
            "_model_module": "@jupyter-widgets/base",
            "_model_module_version": "1.2.0",
            "_model_name": "LayoutModel",
            "_view_count": null,
            "_view_module": "@jupyter-widgets/base",
            "_view_module_version": "1.2.0",
            "_view_name": "LayoutView",
            "align_content": null,
            "align_items": null,
            "align_self": null,
            "border": null,
            "bottom": null,
            "display": null,
            "flex": null,
            "flex_flow": null,
            "grid_area": null,
            "grid_auto_columns": null,
            "grid_auto_flow": null,
            "grid_auto_rows": null,
            "grid_column": null,
            "grid_gap": null,
            "grid_row": null,
            "grid_template_areas": null,
            "grid_template_columns": null,
            "grid_template_rows": null,
            "height": null,
            "justify_content": null,
            "justify_items": null,
            "left": null,
            "margin": null,
            "max_height": null,
            "max_width": null,
            "min_height": null,
            "min_width": null,
            "object_fit": null,
            "object_position": null,
            "order": null,
            "overflow": null,
            "overflow_x": null,
            "overflow_y": null,
            "padding": null,
            "right": null,
            "top": null,
            "visibility": null,
            "width": null
          }
        },
        "44617899a22d4bacb7d60fa01387a1f6": {
          "model_module": "@jupyter-widgets/controls",
          "model_name": "ProgressStyleModel",
          "model_module_version": "1.5.0",
          "state": {
            "_model_module": "@jupyter-widgets/controls",
            "_model_module_version": "1.5.0",
            "_model_name": "ProgressStyleModel",
            "_view_count": null,
            "_view_module": "@jupyter-widgets/base",
            "_view_module_version": "1.2.0",
            "_view_name": "StyleView",
            "bar_color": null,
            "description_width": ""
          }
        },
        "8ca8679df1da45c8bfbe956789eb5242": {
          "model_module": "@jupyter-widgets/base",
          "model_name": "LayoutModel",
          "model_module_version": "1.2.0",
          "state": {
            "_model_module": "@jupyter-widgets/base",
            "_model_module_version": "1.2.0",
            "_model_name": "LayoutModel",
            "_view_count": null,
            "_view_module": "@jupyter-widgets/base",
            "_view_module_version": "1.2.0",
            "_view_name": "LayoutView",
            "align_content": null,
            "align_items": null,
            "align_self": null,
            "border": null,
            "bottom": null,
            "display": null,
            "flex": null,
            "flex_flow": null,
            "grid_area": null,
            "grid_auto_columns": null,
            "grid_auto_flow": null,
            "grid_auto_rows": null,
            "grid_column": null,
            "grid_gap": null,
            "grid_row": null,
            "grid_template_areas": null,
            "grid_template_columns": null,
            "grid_template_rows": null,
            "height": null,
            "justify_content": null,
            "justify_items": null,
            "left": null,
            "margin": null,
            "max_height": null,
            "max_width": null,
            "min_height": null,
            "min_width": null,
            "object_fit": null,
            "object_position": null,
            "order": null,
            "overflow": null,
            "overflow_x": null,
            "overflow_y": null,
            "padding": null,
            "right": null,
            "top": null,
            "visibility": null,
            "width": null
          }
        },
        "4814daf6918e47129adf2795b4def1ca": {
          "model_module": "@jupyter-widgets/controls",
          "model_name": "DescriptionStyleModel",
          "model_module_version": "1.5.0",
          "state": {
            "_model_module": "@jupyter-widgets/controls",
            "_model_module_version": "1.5.0",
            "_model_name": "DescriptionStyleModel",
            "_view_count": null,
            "_view_module": "@jupyter-widgets/base",
            "_view_module_version": "1.2.0",
            "_view_name": "StyleView",
            "description_width": ""
          }
        },
        "5d216e6442664a58acdbe6c5a97bb5af": {
          "model_module": "@jupyter-widgets/controls",
          "model_name": "HBoxModel",
          "model_module_version": "1.5.0",
          "state": {
            "_dom_classes": [],
            "_model_module": "@jupyter-widgets/controls",
            "_model_module_version": "1.5.0",
            "_model_name": "HBoxModel",
            "_view_count": null,
            "_view_module": "@jupyter-widgets/controls",
            "_view_module_version": "1.5.0",
            "_view_name": "HBoxView",
            "box_style": "",
            "children": [
              "IPY_MODEL_c019f685c94b42fbb8ef70a697650911",
              "IPY_MODEL_34d9bc7bf9fe4fbdada2f1472a2df5e1",
              "IPY_MODEL_5a2ca3604a1a472098d938428d531df3"
            ],
            "layout": "IPY_MODEL_0ec3ecbaf53947f5a04d523d8e34ef63"
          }
        },
        "c019f685c94b42fbb8ef70a697650911": {
          "model_module": "@jupyter-widgets/controls",
          "model_name": "HTMLModel",
          "model_module_version": "1.5.0",
          "state": {
            "_dom_classes": [],
            "_model_module": "@jupyter-widgets/controls",
            "_model_module_version": "1.5.0",
            "_model_name": "HTMLModel",
            "_view_count": null,
            "_view_module": "@jupyter-widgets/controls",
            "_view_module_version": "1.5.0",
            "_view_name": "HTMLView",
            "description": "",
            "description_tooltip": null,
            "layout": "IPY_MODEL_c5509ba86057428399f3125b494b8de6",
            "placeholder": "​",
            "style": "IPY_MODEL_f276a5c58cb344b387b22c49c9d2600b",
            "value": "Downloading (…)okenizer_config.json: 100%"
          }
        },
        "34d9bc7bf9fe4fbdada2f1472a2df5e1": {
          "model_module": "@jupyter-widgets/controls",
          "model_name": "FloatProgressModel",
          "model_module_version": "1.5.0",
          "state": {
            "_dom_classes": [],
            "_model_module": "@jupyter-widgets/controls",
            "_model_module_version": "1.5.0",
            "_model_name": "FloatProgressModel",
            "_view_count": null,
            "_view_module": "@jupyter-widgets/controls",
            "_view_module_version": "1.5.0",
            "_view_name": "ProgressView",
            "bar_style": "success",
            "description": "",
            "description_tooltip": null,
            "layout": "IPY_MODEL_1bada62afb084cc68f0a186c421b35fd",
            "max": 28,
            "min": 0,
            "orientation": "horizontal",
            "style": "IPY_MODEL_fb2fc129cb8a4112b16a5044c6bebcd3",
            "value": 28
          }
        },
        "5a2ca3604a1a472098d938428d531df3": {
          "model_module": "@jupyter-widgets/controls",
          "model_name": "HTMLModel",
          "model_module_version": "1.5.0",
          "state": {
            "_dom_classes": [],
            "_model_module": "@jupyter-widgets/controls",
            "_model_module_version": "1.5.0",
            "_model_name": "HTMLModel",
            "_view_count": null,
            "_view_module": "@jupyter-widgets/controls",
            "_view_module_version": "1.5.0",
            "_view_name": "HTMLView",
            "description": "",
            "description_tooltip": null,
            "layout": "IPY_MODEL_d242b2b1eb7f43358fe0eeb53b03b43f",
            "placeholder": "​",
            "style": "IPY_MODEL_d2c92e505e4a451fb216eb2ef9cb2dcd",
            "value": " 28.0/28.0 [00:00&lt;00:00, 2.09kB/s]"
          }
        },
        "0ec3ecbaf53947f5a04d523d8e34ef63": {
          "model_module": "@jupyter-widgets/base",
          "model_name": "LayoutModel",
          "model_module_version": "1.2.0",
          "state": {
            "_model_module": "@jupyter-widgets/base",
            "_model_module_version": "1.2.0",
            "_model_name": "LayoutModel",
            "_view_count": null,
            "_view_module": "@jupyter-widgets/base",
            "_view_module_version": "1.2.0",
            "_view_name": "LayoutView",
            "align_content": null,
            "align_items": null,
            "align_self": null,
            "border": null,
            "bottom": null,
            "display": null,
            "flex": null,
            "flex_flow": null,
            "grid_area": null,
            "grid_auto_columns": null,
            "grid_auto_flow": null,
            "grid_auto_rows": null,
            "grid_column": null,
            "grid_gap": null,
            "grid_row": null,
            "grid_template_areas": null,
            "grid_template_columns": null,
            "grid_template_rows": null,
            "height": null,
            "justify_content": null,
            "justify_items": null,
            "left": null,
            "margin": null,
            "max_height": null,
            "max_width": null,
            "min_height": null,
            "min_width": null,
            "object_fit": null,
            "object_position": null,
            "order": null,
            "overflow": null,
            "overflow_x": null,
            "overflow_y": null,
            "padding": null,
            "right": null,
            "top": null,
            "visibility": null,
            "width": null
          }
        },
        "c5509ba86057428399f3125b494b8de6": {
          "model_module": "@jupyter-widgets/base",
          "model_name": "LayoutModel",
          "model_module_version": "1.2.0",
          "state": {
            "_model_module": "@jupyter-widgets/base",
            "_model_module_version": "1.2.0",
            "_model_name": "LayoutModel",
            "_view_count": null,
            "_view_module": "@jupyter-widgets/base",
            "_view_module_version": "1.2.0",
            "_view_name": "LayoutView",
            "align_content": null,
            "align_items": null,
            "align_self": null,
            "border": null,
            "bottom": null,
            "display": null,
            "flex": null,
            "flex_flow": null,
            "grid_area": null,
            "grid_auto_columns": null,
            "grid_auto_flow": null,
            "grid_auto_rows": null,
            "grid_column": null,
            "grid_gap": null,
            "grid_row": null,
            "grid_template_areas": null,
            "grid_template_columns": null,
            "grid_template_rows": null,
            "height": null,
            "justify_content": null,
            "justify_items": null,
            "left": null,
            "margin": null,
            "max_height": null,
            "max_width": null,
            "min_height": null,
            "min_width": null,
            "object_fit": null,
            "object_position": null,
            "order": null,
            "overflow": null,
            "overflow_x": null,
            "overflow_y": null,
            "padding": null,
            "right": null,
            "top": null,
            "visibility": null,
            "width": null
          }
        },
        "f276a5c58cb344b387b22c49c9d2600b": {
          "model_module": "@jupyter-widgets/controls",
          "model_name": "DescriptionStyleModel",
          "model_module_version": "1.5.0",
          "state": {
            "_model_module": "@jupyter-widgets/controls",
            "_model_module_version": "1.5.0",
            "_model_name": "DescriptionStyleModel",
            "_view_count": null,
            "_view_module": "@jupyter-widgets/base",
            "_view_module_version": "1.2.0",
            "_view_name": "StyleView",
            "description_width": ""
          }
        },
        "1bada62afb084cc68f0a186c421b35fd": {
          "model_module": "@jupyter-widgets/base",
          "model_name": "LayoutModel",
          "model_module_version": "1.2.0",
          "state": {
            "_model_module": "@jupyter-widgets/base",
            "_model_module_version": "1.2.0",
            "_model_name": "LayoutModel",
            "_view_count": null,
            "_view_module": "@jupyter-widgets/base",
            "_view_module_version": "1.2.0",
            "_view_name": "LayoutView",
            "align_content": null,
            "align_items": null,
            "align_self": null,
            "border": null,
            "bottom": null,
            "display": null,
            "flex": null,
            "flex_flow": null,
            "grid_area": null,
            "grid_auto_columns": null,
            "grid_auto_flow": null,
            "grid_auto_rows": null,
            "grid_column": null,
            "grid_gap": null,
            "grid_row": null,
            "grid_template_areas": null,
            "grid_template_columns": null,
            "grid_template_rows": null,
            "height": null,
            "justify_content": null,
            "justify_items": null,
            "left": null,
            "margin": null,
            "max_height": null,
            "max_width": null,
            "min_height": null,
            "min_width": null,
            "object_fit": null,
            "object_position": null,
            "order": null,
            "overflow": null,
            "overflow_x": null,
            "overflow_y": null,
            "padding": null,
            "right": null,
            "top": null,
            "visibility": null,
            "width": null
          }
        },
        "fb2fc129cb8a4112b16a5044c6bebcd3": {
          "model_module": "@jupyter-widgets/controls",
          "model_name": "ProgressStyleModel",
          "model_module_version": "1.5.0",
          "state": {
            "_model_module": "@jupyter-widgets/controls",
            "_model_module_version": "1.5.0",
            "_model_name": "ProgressStyleModel",
            "_view_count": null,
            "_view_module": "@jupyter-widgets/base",
            "_view_module_version": "1.2.0",
            "_view_name": "StyleView",
            "bar_color": null,
            "description_width": ""
          }
        },
        "d242b2b1eb7f43358fe0eeb53b03b43f": {
          "model_module": "@jupyter-widgets/base",
          "model_name": "LayoutModel",
          "model_module_version": "1.2.0",
          "state": {
            "_model_module": "@jupyter-widgets/base",
            "_model_module_version": "1.2.0",
            "_model_name": "LayoutModel",
            "_view_count": null,
            "_view_module": "@jupyter-widgets/base",
            "_view_module_version": "1.2.0",
            "_view_name": "LayoutView",
            "align_content": null,
            "align_items": null,
            "align_self": null,
            "border": null,
            "bottom": null,
            "display": null,
            "flex": null,
            "flex_flow": null,
            "grid_area": null,
            "grid_auto_columns": null,
            "grid_auto_flow": null,
            "grid_auto_rows": null,
            "grid_column": null,
            "grid_gap": null,
            "grid_row": null,
            "grid_template_areas": null,
            "grid_template_columns": null,
            "grid_template_rows": null,
            "height": null,
            "justify_content": null,
            "justify_items": null,
            "left": null,
            "margin": null,
            "max_height": null,
            "max_width": null,
            "min_height": null,
            "min_width": null,
            "object_fit": null,
            "object_position": null,
            "order": null,
            "overflow": null,
            "overflow_x": null,
            "overflow_y": null,
            "padding": null,
            "right": null,
            "top": null,
            "visibility": null,
            "width": null
          }
        },
        "d2c92e505e4a451fb216eb2ef9cb2dcd": {
          "model_module": "@jupyter-widgets/controls",
          "model_name": "DescriptionStyleModel",
          "model_module_version": "1.5.0",
          "state": {
            "_model_module": "@jupyter-widgets/controls",
            "_model_module_version": "1.5.0",
            "_model_name": "DescriptionStyleModel",
            "_view_count": null,
            "_view_module": "@jupyter-widgets/base",
            "_view_module_version": "1.2.0",
            "_view_name": "StyleView",
            "description_width": ""
          }
        },
        "f559e43f19a64f3782b4f96cb630389c": {
          "model_module": "@jupyter-widgets/controls",
          "model_name": "HBoxModel",
          "model_module_version": "1.5.0",
          "state": {
            "_dom_classes": [],
            "_model_module": "@jupyter-widgets/controls",
            "_model_module_version": "1.5.0",
            "_model_name": "HBoxModel",
            "_view_count": null,
            "_view_module": "@jupyter-widgets/controls",
            "_view_module_version": "1.5.0",
            "_view_name": "HBoxView",
            "box_style": "",
            "children": [
              "IPY_MODEL_80f8f99b097e4d3695b80f89bb95a86d",
              "IPY_MODEL_3999faf61d2a42c89771690be8a6a01e",
              "IPY_MODEL_c16e366d0fca40a19822a0b51814da65"
            ],
            "layout": "IPY_MODEL_a3a0fca1c0484690b83344317dc3c877"
          }
        },
        "80f8f99b097e4d3695b80f89bb95a86d": {
          "model_module": "@jupyter-widgets/controls",
          "model_name": "HTMLModel",
          "model_module_version": "1.5.0",
          "state": {
            "_dom_classes": [],
            "_model_module": "@jupyter-widgets/controls",
            "_model_module_version": "1.5.0",
            "_model_name": "HTMLModel",
            "_view_count": null,
            "_view_module": "@jupyter-widgets/controls",
            "_view_module_version": "1.5.0",
            "_view_name": "HTMLView",
            "description": "",
            "description_tooltip": null,
            "layout": "IPY_MODEL_a9e7e4e3fcf34ae683772f8f9fe67b71",
            "placeholder": "​",
            "style": "IPY_MODEL_b284418760ba4ac699a638799a32f292",
            "value": "Downloading (…)lve/main/config.json: 100%"
          }
        },
        "3999faf61d2a42c89771690be8a6a01e": {
          "model_module": "@jupyter-widgets/controls",
          "model_name": "FloatProgressModel",
          "model_module_version": "1.5.0",
          "state": {
            "_dom_classes": [],
            "_model_module": "@jupyter-widgets/controls",
            "_model_module_version": "1.5.0",
            "_model_name": "FloatProgressModel",
            "_view_count": null,
            "_view_module": "@jupyter-widgets/controls",
            "_view_module_version": "1.5.0",
            "_view_name": "ProgressView",
            "bar_style": "success",
            "description": "",
            "description_tooltip": null,
            "layout": "IPY_MODEL_9fe001af9aab42be800e244831199ad0",
            "max": 570,
            "min": 0,
            "orientation": "horizontal",
            "style": "IPY_MODEL_f008a8d113fb45a1a12b053eba77d341",
            "value": 570
          }
        },
        "c16e366d0fca40a19822a0b51814da65": {
          "model_module": "@jupyter-widgets/controls",
          "model_name": "HTMLModel",
          "model_module_version": "1.5.0",
          "state": {
            "_dom_classes": [],
            "_model_module": "@jupyter-widgets/controls",
            "_model_module_version": "1.5.0",
            "_model_name": "HTMLModel",
            "_view_count": null,
            "_view_module": "@jupyter-widgets/controls",
            "_view_module_version": "1.5.0",
            "_view_name": "HTMLView",
            "description": "",
            "description_tooltip": null,
            "layout": "IPY_MODEL_fc95a11e45ee4228bbedd183b19a0869",
            "placeholder": "​",
            "style": "IPY_MODEL_5bcf9d629c8e49c1b0036db78a0dbd76",
            "value": " 570/570 [00:00&lt;00:00, 37.4kB/s]"
          }
        },
        "a3a0fca1c0484690b83344317dc3c877": {
          "model_module": "@jupyter-widgets/base",
          "model_name": "LayoutModel",
          "model_module_version": "1.2.0",
          "state": {
            "_model_module": "@jupyter-widgets/base",
            "_model_module_version": "1.2.0",
            "_model_name": "LayoutModel",
            "_view_count": null,
            "_view_module": "@jupyter-widgets/base",
            "_view_module_version": "1.2.0",
            "_view_name": "LayoutView",
            "align_content": null,
            "align_items": null,
            "align_self": null,
            "border": null,
            "bottom": null,
            "display": null,
            "flex": null,
            "flex_flow": null,
            "grid_area": null,
            "grid_auto_columns": null,
            "grid_auto_flow": null,
            "grid_auto_rows": null,
            "grid_column": null,
            "grid_gap": null,
            "grid_row": null,
            "grid_template_areas": null,
            "grid_template_columns": null,
            "grid_template_rows": null,
            "height": null,
            "justify_content": null,
            "justify_items": null,
            "left": null,
            "margin": null,
            "max_height": null,
            "max_width": null,
            "min_height": null,
            "min_width": null,
            "object_fit": null,
            "object_position": null,
            "order": null,
            "overflow": null,
            "overflow_x": null,
            "overflow_y": null,
            "padding": null,
            "right": null,
            "top": null,
            "visibility": null,
            "width": null
          }
        },
        "a9e7e4e3fcf34ae683772f8f9fe67b71": {
          "model_module": "@jupyter-widgets/base",
          "model_name": "LayoutModel",
          "model_module_version": "1.2.0",
          "state": {
            "_model_module": "@jupyter-widgets/base",
            "_model_module_version": "1.2.0",
            "_model_name": "LayoutModel",
            "_view_count": null,
            "_view_module": "@jupyter-widgets/base",
            "_view_module_version": "1.2.0",
            "_view_name": "LayoutView",
            "align_content": null,
            "align_items": null,
            "align_self": null,
            "border": null,
            "bottom": null,
            "display": null,
            "flex": null,
            "flex_flow": null,
            "grid_area": null,
            "grid_auto_columns": null,
            "grid_auto_flow": null,
            "grid_auto_rows": null,
            "grid_column": null,
            "grid_gap": null,
            "grid_row": null,
            "grid_template_areas": null,
            "grid_template_columns": null,
            "grid_template_rows": null,
            "height": null,
            "justify_content": null,
            "justify_items": null,
            "left": null,
            "margin": null,
            "max_height": null,
            "max_width": null,
            "min_height": null,
            "min_width": null,
            "object_fit": null,
            "object_position": null,
            "order": null,
            "overflow": null,
            "overflow_x": null,
            "overflow_y": null,
            "padding": null,
            "right": null,
            "top": null,
            "visibility": null,
            "width": null
          }
        },
        "b284418760ba4ac699a638799a32f292": {
          "model_module": "@jupyter-widgets/controls",
          "model_name": "DescriptionStyleModel",
          "model_module_version": "1.5.0",
          "state": {
            "_model_module": "@jupyter-widgets/controls",
            "_model_module_version": "1.5.0",
            "_model_name": "DescriptionStyleModel",
            "_view_count": null,
            "_view_module": "@jupyter-widgets/base",
            "_view_module_version": "1.2.0",
            "_view_name": "StyleView",
            "description_width": ""
          }
        },
        "9fe001af9aab42be800e244831199ad0": {
          "model_module": "@jupyter-widgets/base",
          "model_name": "LayoutModel",
          "model_module_version": "1.2.0",
          "state": {
            "_model_module": "@jupyter-widgets/base",
            "_model_module_version": "1.2.0",
            "_model_name": "LayoutModel",
            "_view_count": null,
            "_view_module": "@jupyter-widgets/base",
            "_view_module_version": "1.2.0",
            "_view_name": "LayoutView",
            "align_content": null,
            "align_items": null,
            "align_self": null,
            "border": null,
            "bottom": null,
            "display": null,
            "flex": null,
            "flex_flow": null,
            "grid_area": null,
            "grid_auto_columns": null,
            "grid_auto_flow": null,
            "grid_auto_rows": null,
            "grid_column": null,
            "grid_gap": null,
            "grid_row": null,
            "grid_template_areas": null,
            "grid_template_columns": null,
            "grid_template_rows": null,
            "height": null,
            "justify_content": null,
            "justify_items": null,
            "left": null,
            "margin": null,
            "max_height": null,
            "max_width": null,
            "min_height": null,
            "min_width": null,
            "object_fit": null,
            "object_position": null,
            "order": null,
            "overflow": null,
            "overflow_x": null,
            "overflow_y": null,
            "padding": null,
            "right": null,
            "top": null,
            "visibility": null,
            "width": null
          }
        },
        "f008a8d113fb45a1a12b053eba77d341": {
          "model_module": "@jupyter-widgets/controls",
          "model_name": "ProgressStyleModel",
          "model_module_version": "1.5.0",
          "state": {
            "_model_module": "@jupyter-widgets/controls",
            "_model_module_version": "1.5.0",
            "_model_name": "ProgressStyleModel",
            "_view_count": null,
            "_view_module": "@jupyter-widgets/base",
            "_view_module_version": "1.2.0",
            "_view_name": "StyleView",
            "bar_color": null,
            "description_width": ""
          }
        },
        "fc95a11e45ee4228bbedd183b19a0869": {
          "model_module": "@jupyter-widgets/base",
          "model_name": "LayoutModel",
          "model_module_version": "1.2.0",
          "state": {
            "_model_module": "@jupyter-widgets/base",
            "_model_module_version": "1.2.0",
            "_model_name": "LayoutModel",
            "_view_count": null,
            "_view_module": "@jupyter-widgets/base",
            "_view_module_version": "1.2.0",
            "_view_name": "LayoutView",
            "align_content": null,
            "align_items": null,
            "align_self": null,
            "border": null,
            "bottom": null,
            "display": null,
            "flex": null,
            "flex_flow": null,
            "grid_area": null,
            "grid_auto_columns": null,
            "grid_auto_flow": null,
            "grid_auto_rows": null,
            "grid_column": null,
            "grid_gap": null,
            "grid_row": null,
            "grid_template_areas": null,
            "grid_template_columns": null,
            "grid_template_rows": null,
            "height": null,
            "justify_content": null,
            "justify_items": null,
            "left": null,
            "margin": null,
            "max_height": null,
            "max_width": null,
            "min_height": null,
            "min_width": null,
            "object_fit": null,
            "object_position": null,
            "order": null,
            "overflow": null,
            "overflow_x": null,
            "overflow_y": null,
            "padding": null,
            "right": null,
            "top": null,
            "visibility": null,
            "width": null
          }
        },
        "5bcf9d629c8e49c1b0036db78a0dbd76": {
          "model_module": "@jupyter-widgets/controls",
          "model_name": "DescriptionStyleModel",
          "model_module_version": "1.5.0",
          "state": {
            "_model_module": "@jupyter-widgets/controls",
            "_model_module_version": "1.5.0",
            "_model_name": "DescriptionStyleModel",
            "_view_count": null,
            "_view_module": "@jupyter-widgets/base",
            "_view_module_version": "1.2.0",
            "_view_name": "StyleView",
            "description_width": ""
          }
        },
        "785196138ec8416da9efafc405256024": {
          "model_module": "@jupyter-widgets/controls",
          "model_name": "HBoxModel",
          "model_module_version": "1.5.0",
          "state": {
            "_dom_classes": [],
            "_model_module": "@jupyter-widgets/controls",
            "_model_module_version": "1.5.0",
            "_model_name": "HBoxModel",
            "_view_count": null,
            "_view_module": "@jupyter-widgets/controls",
            "_view_module_version": "1.5.0",
            "_view_name": "HBoxView",
            "box_style": "",
            "children": [
              "IPY_MODEL_66fb4e0f1f6e446194d3e86c94235c22",
              "IPY_MODEL_52d496e8f9be425b94799078e45df56e",
              "IPY_MODEL_3392676c46824be7ac35f987d7186017"
            ],
            "layout": "IPY_MODEL_071627c722cc451fb870c2f671f42145"
          }
        },
        "66fb4e0f1f6e446194d3e86c94235c22": {
          "model_module": "@jupyter-widgets/controls",
          "model_name": "HTMLModel",
          "model_module_version": "1.5.0",
          "state": {
            "_dom_classes": [],
            "_model_module": "@jupyter-widgets/controls",
            "_model_module_version": "1.5.0",
            "_model_name": "HTMLModel",
            "_view_count": null,
            "_view_module": "@jupyter-widgets/controls",
            "_view_module_version": "1.5.0",
            "_view_name": "HTMLView",
            "description": "",
            "description_tooltip": null,
            "layout": "IPY_MODEL_6e208540c2c84f638c671b39396475c0",
            "placeholder": "​",
            "style": "IPY_MODEL_f59364cb0bcd4910b6fcab2c8f9c38bb",
            "value": "Downloading pytorch_model.bin: 100%"
          }
        },
        "52d496e8f9be425b94799078e45df56e": {
          "model_module": "@jupyter-widgets/controls",
          "model_name": "FloatProgressModel",
          "model_module_version": "1.5.0",
          "state": {
            "_dom_classes": [],
            "_model_module": "@jupyter-widgets/controls",
            "_model_module_version": "1.5.0",
            "_model_name": "FloatProgressModel",
            "_view_count": null,
            "_view_module": "@jupyter-widgets/controls",
            "_view_module_version": "1.5.0",
            "_view_name": "ProgressView",
            "bar_style": "success",
            "description": "",
            "description_tooltip": null,
            "layout": "IPY_MODEL_cff942d28a414325ab54147da8a0d58a",
            "max": 440473133,
            "min": 0,
            "orientation": "horizontal",
            "style": "IPY_MODEL_4fc464b2cc2943f2a3f23d8cbecbface",
            "value": 440473133
          }
        },
        "3392676c46824be7ac35f987d7186017": {
          "model_module": "@jupyter-widgets/controls",
          "model_name": "HTMLModel",
          "model_module_version": "1.5.0",
          "state": {
            "_dom_classes": [],
            "_model_module": "@jupyter-widgets/controls",
            "_model_module_version": "1.5.0",
            "_model_name": "HTMLModel",
            "_view_count": null,
            "_view_module": "@jupyter-widgets/controls",
            "_view_module_version": "1.5.0",
            "_view_name": "HTMLView",
            "description": "",
            "description_tooltip": null,
            "layout": "IPY_MODEL_c5a389ddc5ac4a079c206f81fe578025",
            "placeholder": "​",
            "style": "IPY_MODEL_ca1dcc6dc2604ad091ac392ad7f60d4f",
            "value": " 440M/440M [00:01&lt;00:00, 251MB/s]"
          }
        },
        "071627c722cc451fb870c2f671f42145": {
          "model_module": "@jupyter-widgets/base",
          "model_name": "LayoutModel",
          "model_module_version": "1.2.0",
          "state": {
            "_model_module": "@jupyter-widgets/base",
            "_model_module_version": "1.2.0",
            "_model_name": "LayoutModel",
            "_view_count": null,
            "_view_module": "@jupyter-widgets/base",
            "_view_module_version": "1.2.0",
            "_view_name": "LayoutView",
            "align_content": null,
            "align_items": null,
            "align_self": null,
            "border": null,
            "bottom": null,
            "display": null,
            "flex": null,
            "flex_flow": null,
            "grid_area": null,
            "grid_auto_columns": null,
            "grid_auto_flow": null,
            "grid_auto_rows": null,
            "grid_column": null,
            "grid_gap": null,
            "grid_row": null,
            "grid_template_areas": null,
            "grid_template_columns": null,
            "grid_template_rows": null,
            "height": null,
            "justify_content": null,
            "justify_items": null,
            "left": null,
            "margin": null,
            "max_height": null,
            "max_width": null,
            "min_height": null,
            "min_width": null,
            "object_fit": null,
            "object_position": null,
            "order": null,
            "overflow": null,
            "overflow_x": null,
            "overflow_y": null,
            "padding": null,
            "right": null,
            "top": null,
            "visibility": null,
            "width": null
          }
        },
        "6e208540c2c84f638c671b39396475c0": {
          "model_module": "@jupyter-widgets/base",
          "model_name": "LayoutModel",
          "model_module_version": "1.2.0",
          "state": {
            "_model_module": "@jupyter-widgets/base",
            "_model_module_version": "1.2.0",
            "_model_name": "LayoutModel",
            "_view_count": null,
            "_view_module": "@jupyter-widgets/base",
            "_view_module_version": "1.2.0",
            "_view_name": "LayoutView",
            "align_content": null,
            "align_items": null,
            "align_self": null,
            "border": null,
            "bottom": null,
            "display": null,
            "flex": null,
            "flex_flow": null,
            "grid_area": null,
            "grid_auto_columns": null,
            "grid_auto_flow": null,
            "grid_auto_rows": null,
            "grid_column": null,
            "grid_gap": null,
            "grid_row": null,
            "grid_template_areas": null,
            "grid_template_columns": null,
            "grid_template_rows": null,
            "height": null,
            "justify_content": null,
            "justify_items": null,
            "left": null,
            "margin": null,
            "max_height": null,
            "max_width": null,
            "min_height": null,
            "min_width": null,
            "object_fit": null,
            "object_position": null,
            "order": null,
            "overflow": null,
            "overflow_x": null,
            "overflow_y": null,
            "padding": null,
            "right": null,
            "top": null,
            "visibility": null,
            "width": null
          }
        },
        "f59364cb0bcd4910b6fcab2c8f9c38bb": {
          "model_module": "@jupyter-widgets/controls",
          "model_name": "DescriptionStyleModel",
          "model_module_version": "1.5.0",
          "state": {
            "_model_module": "@jupyter-widgets/controls",
            "_model_module_version": "1.5.0",
            "_model_name": "DescriptionStyleModel",
            "_view_count": null,
            "_view_module": "@jupyter-widgets/base",
            "_view_module_version": "1.2.0",
            "_view_name": "StyleView",
            "description_width": ""
          }
        },
        "cff942d28a414325ab54147da8a0d58a": {
          "model_module": "@jupyter-widgets/base",
          "model_name": "LayoutModel",
          "model_module_version": "1.2.0",
          "state": {
            "_model_module": "@jupyter-widgets/base",
            "_model_module_version": "1.2.0",
            "_model_name": "LayoutModel",
            "_view_count": null,
            "_view_module": "@jupyter-widgets/base",
            "_view_module_version": "1.2.0",
            "_view_name": "LayoutView",
            "align_content": null,
            "align_items": null,
            "align_self": null,
            "border": null,
            "bottom": null,
            "display": null,
            "flex": null,
            "flex_flow": null,
            "grid_area": null,
            "grid_auto_columns": null,
            "grid_auto_flow": null,
            "grid_auto_rows": null,
            "grid_column": null,
            "grid_gap": null,
            "grid_row": null,
            "grid_template_areas": null,
            "grid_template_columns": null,
            "grid_template_rows": null,
            "height": null,
            "justify_content": null,
            "justify_items": null,
            "left": null,
            "margin": null,
            "max_height": null,
            "max_width": null,
            "min_height": null,
            "min_width": null,
            "object_fit": null,
            "object_position": null,
            "order": null,
            "overflow": null,
            "overflow_x": null,
            "overflow_y": null,
            "padding": null,
            "right": null,
            "top": null,
            "visibility": null,
            "width": null
          }
        },
        "4fc464b2cc2943f2a3f23d8cbecbface": {
          "model_module": "@jupyter-widgets/controls",
          "model_name": "ProgressStyleModel",
          "model_module_version": "1.5.0",
          "state": {
            "_model_module": "@jupyter-widgets/controls",
            "_model_module_version": "1.5.0",
            "_model_name": "ProgressStyleModel",
            "_view_count": null,
            "_view_module": "@jupyter-widgets/base",
            "_view_module_version": "1.2.0",
            "_view_name": "StyleView",
            "bar_color": null,
            "description_width": ""
          }
        },
        "c5a389ddc5ac4a079c206f81fe578025": {
          "model_module": "@jupyter-widgets/base",
          "model_name": "LayoutModel",
          "model_module_version": "1.2.0",
          "state": {
            "_model_module": "@jupyter-widgets/base",
            "_model_module_version": "1.2.0",
            "_model_name": "LayoutModel",
            "_view_count": null,
            "_view_module": "@jupyter-widgets/base",
            "_view_module_version": "1.2.0",
            "_view_name": "LayoutView",
            "align_content": null,
            "align_items": null,
            "align_self": null,
            "border": null,
            "bottom": null,
            "display": null,
            "flex": null,
            "flex_flow": null,
            "grid_area": null,
            "grid_auto_columns": null,
            "grid_auto_flow": null,
            "grid_auto_rows": null,
            "grid_column": null,
            "grid_gap": null,
            "grid_row": null,
            "grid_template_areas": null,
            "grid_template_columns": null,
            "grid_template_rows": null,
            "height": null,
            "justify_content": null,
            "justify_items": null,
            "left": null,
            "margin": null,
            "max_height": null,
            "max_width": null,
            "min_height": null,
            "min_width": null,
            "object_fit": null,
            "object_position": null,
            "order": null,
            "overflow": null,
            "overflow_x": null,
            "overflow_y": null,
            "padding": null,
            "right": null,
            "top": null,
            "visibility": null,
            "width": null
          }
        },
        "ca1dcc6dc2604ad091ac392ad7f60d4f": {
          "model_module": "@jupyter-widgets/controls",
          "model_name": "DescriptionStyleModel",
          "model_module_version": "1.5.0",
          "state": {
            "_model_module": "@jupyter-widgets/controls",
            "_model_module_version": "1.5.0",
            "_model_name": "DescriptionStyleModel",
            "_view_count": null,
            "_view_module": "@jupyter-widgets/base",
            "_view_module_version": "1.2.0",
            "_view_name": "StyleView",
            "description_width": ""
          }
        }
      }
    }
  },
  "nbformat": 4,
  "nbformat_minor": 5
}